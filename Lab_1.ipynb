{
  "nbformat": 4,
  "nbformat_minor": 0,
  "metadata": {
    "colab": {
      "provenance": [],
      "collapsed_sections": []
    },
    "kernelspec": {
      "display_name": "Python 3",
      "language": "python",
      "name": "python3"
    },
    "language_info": {
      "codemirror_mode": {
        "name": "ipython",
        "version": 3
      },
      "file_extension": ".py",
      "mimetype": "text/x-python",
      "name": "python",
      "nbconvert_exporter": "python",
      "pygments_lexer": "ipython3",
      "version": "3.7.4"
    }
  },
  "cells": [
    {
      "cell_type": "markdown",
      "metadata": {
        "id": "BsNwjQDRfmLY"
      },
      "source": [
        "# Задание 1"
      ]
    },
    {
      "cell_type": "markdown",
      "metadata": {
        "id": "wu6r1-s7fmLe"
      },
      "source": [
        "---"
      ]
    },
    {
      "cell_type": "code",
      "source": [
        "import numpy as np\n",
        "import random\n",
        "import matplotlib.pyplot as plt\n",
        "from math import factorial"
      ],
      "metadata": {
        "id": "sOsgNjhZP50T"
      },
      "execution_count": 3,
      "outputs": []
    },
    {
      "cell_type": "markdown",
      "metadata": {
        "id": "zxRIdPO9gYyX"
      },
      "source": [
        "Напишите программу, которая будет решать систему линейных уравнений вида:\n",
        "\n",
        "\\begin{matrix} a_{11}x+a_{12}y=b_{1}&(1) \\\\ a_{21}x+a_{22}y=b_{2} &(2) \\end{matrix}\n",
        "​\t\n",
        "На вход программа должна принимать 2 строки.\n",
        "\n",
        "Каждая строка содержит 3 действительных числа через пробел: коэффициенты a и b.\n",
        "\n",
        "На выходе программа должна выдавать значения x и y в одну строку через пробел.\n",
        " \n",
        "\n",
        "Примечание 1. Для разделения строки на отдельные элементы используйте функцию split()\n",
        "\n",
        "Примечание 2. В качестве разделителя между целой и дробной частью используйте точку, например 0.2"
      ]
    },
    {
      "cell_type": "code",
      "metadata": {
        "id": "6sxlcLbVlrjl",
        "colab": {
          "base_uri": "https://localhost:8080/"
        },
        "outputId": "7b386d51-116e-4e6c-a550-b2401881429c"
      },
      "source": [
        "def linan(A, B):\n",
        "  if (np.linalg.matrix_rank(A) == np.linalg.matrix_rank(np.hstack((A, np.array_split(B, len(B)))))):\n",
        "    if (np.linalg.matrix_rank(A) < len(A[0])):\n",
        "      return \"Infinity number of solutions\"\n",
        "    return np.linalg.solve(A, B)\n",
        "  return \"The system cannot be solved\"\n",
        "\n",
        "A = []\n",
        "B = []\n",
        "for i in range(2):\n",
        "  exp = list(map(float, input().split()))\n",
        "  A.append(exp[0:-1])\n",
        "  B.append(exp[-1])\n",
        "\n",
        "print(' '.join([str(round(i, 3)) for i in linan(A, B)]))"
      ],
      "execution_count": 158,
      "outputs": [
        {
          "output_type": "stream",
          "name": "stdout",
          "text": [
            "0.2 0.3 1\n",
            "0.5 0.3 7\n",
            "20.0 -10.0\n"
          ]
        }
      ]
    },
    {
      "cell_type": "markdown",
      "source": [
        "### Подсказка 1"
      ],
      "metadata": {
        "id": "kElPCFyiua9I"
      }
    },
    {
      "cell_type": "code",
      "source": [],
      "metadata": {
        "id": "jwjE2xldue0h"
      },
      "execution_count": null,
      "outputs": []
    },
    {
      "cell_type": "markdown",
      "metadata": {
        "id": "wLoVDMQnfmOv"
      },
      "source": [
        "# Задание 2"
      ]
    },
    {
      "cell_type": "markdown",
      "metadata": {
        "id": "6bmt_YF3fmOw"
      },
      "source": [
        "Напишите функцию `decorate_matrix`, которая получает на вход одно целое число больше единицы. Функция должна возвращать матрицу n на n, у которой на границах стоят единицы, а на всех остальных позициях(если остались позиции не на границах) стоят нули.\n",
        "\n",
        "Нужно сделать без использования  циклов.\n",
        "\n",
        "```\n",
        "# ожидаемый резальтат для аргумента 5\n",
        "array([[1., 1., 1., 1., 1.],\n",
        "[1., 0., 0., 0., 1.],\n",
        "[1., 0., 0., 0., 1.],\n",
        "[1., 0., 0., 0., 1.],\n",
        "[1., 1., 1., 1., 1.]])\n",
        "```\n",
        "\n"
      ]
    },
    {
      "cell_type": "code",
      "source": [
        "def decorate_matrix(n):\n",
        "  matrix = np.ones((n, n))\n",
        "  matrix[1:-1, 1:-1] = 0\n",
        "  return matrix"
      ],
      "metadata": {
        "id": "tnt0xyR_navT"
      },
      "execution_count": 151,
      "outputs": []
    },
    {
      "cell_type": "code",
      "source": [
        "n = int(input())\n",
        "decorate_matrix(n)"
      ],
      "metadata": {
        "colab": {
          "base_uri": "https://localhost:8080/"
        },
        "id": "cYrpWnSZiTPQ",
        "outputId": "675e7740-a861-4f76-f04b-4ab0197bb8f1"
      },
      "execution_count": 160,
      "outputs": [
        {
          "name": "stdout",
          "output_type": "stream",
          "text": [
            "5\n"
          ]
        },
        {
          "output_type": "execute_result",
          "data": {
            "text/plain": [
              "array([[1., 1., 1., 1., 1.],\n",
              "       [1., 0., 0., 0., 1.],\n",
              "       [1., 0., 0., 0., 1.],\n",
              "       [1., 0., 0., 0., 1.],\n",
              "       [1., 1., 1., 1., 1.]])"
            ]
          },
          "metadata": {},
          "execution_count": 160
        }
      ]
    },
    {
      "cell_type": "markdown",
      "metadata": {
        "id": "75sxny1zSCbl"
      },
      "source": [
        "# Задание 3"
      ]
    },
    {
      "cell_type": "markdown",
      "metadata": {
        "id": "2Xq1tBBAS5UJ"
      },
      "source": [
        "1) реализуйте 2 функции:\n",
        "\n",
        "$f(x) = (x+a)^2 - b$ \n",
        "\n",
        "$g(x) = |f(x)|$\n",
        "\n",
        "2) Найдите аргументы, при которых достигается минимум функций $f(x)$ и $g(x)$\n",
        "\n",
        "Пример. \n",
        "Входные значение: $a=3$ и $b=4$\n",
        "\n",
        "Выходные значения:\n",
        "\n",
        "`-3.0 -1.0`"
      ]
    },
    {
      "cell_type": "code",
      "source": [
        "a, b = map(float, input().split())"
      ],
      "metadata": {
        "colab": {
          "base_uri": "https://localhost:8080/"
        },
        "id": "--omX8OsA6cz",
        "outputId": "c1074574-4ac7-41b3-961c-b6848f2775b8"
      },
      "execution_count": 1,
      "outputs": [
        {
          "name": "stdout",
          "output_type": "stream",
          "text": [
            "3 4\n"
          ]
        }
      ]
    },
    {
      "cell_type": "code",
      "source": [
        "def f(x, a, b):\n",
        "  return np.power((x + a), 2) - b\n",
        "\n",
        "def g(x, a, b):\n",
        "  return np.absolute(f(x, a, b))\n",
        "\n",
        "f_min = [-a]\n",
        "g_min = np.roots([1, 2 * a, np.power(a, 2) - b])\n",
        "if (np.iscomplex(g_min[0])):\n",
        "  g_min = f_min\n",
        "\n",
        "mins = np.concatenate((f_min, g_min))\n",
        "\n",
        "print(' '.join([str(min) for min in mins]))"
      ],
      "metadata": {
        "colab": {
          "base_uri": "https://localhost:8080/"
        },
        "id": "mhWqRcYcTVPt",
        "outputId": "0fb41349-648c-4f64-d053-b37c1d58dd18"
      },
      "execution_count": 4,
      "outputs": [
        {
          "output_type": "stream",
          "name": "stdout",
          "text": [
            "-3.0 -5.0 -1.0\n"
          ]
        }
      ]
    },
    {
      "cell_type": "markdown",
      "metadata": {
        "id": "efml9GzISC9Q"
      },
      "source": [
        "# Задание 4"
      ]
    },
    {
      "cell_type": "markdown",
      "metadata": {
        "id": "SDZvKcsTVbAW"
      },
      "source": [
        "\n",
        "Постройте графики для функций из предыдущего задания и отметьте другим цветом на графиках точки найденных минимумов."
      ]
    },
    {
      "cell_type": "code",
      "source": [
        "points = []\n",
        "color = [\"coral\", \"cornflowerblue\", \"cornflowerblue\"]\n",
        "style = [\"o\", \"X\", \"X\"]\n",
        "for root in mins:\n",
        "  points.append((root, f(root, a, b), color[len(points)], style[len(points)]))\n",
        "\n",
        "x = np.linspace(points[0][0] - 6, points[0][0] + 6, 500)\n",
        " \n",
        "fig = plt.figure(figsize = (14, 8))\n",
        " \n",
        "plt.plot(x, f(x, a, b), 'royalblue', label = 'f=(x+a)^2-b', alpha = 0.7, linewidth=2)\n",
        "\n",
        "plt.plot(x, g(x, a, b), 'orangered', label = 'g=|f|', linestyle=\"--\", alpha = 0.7, linewidth=2)\n",
        "\n",
        "for i, j, color, style in points:\n",
        "  plt.plot(i, j, marker=style, markersize=10, markeredgecolor=\"white\", markerfacecolor=color)\n",
        "  plt.text(i + 0.2, j + 0.25, '({}, {})'.format(i, j))\n",
        "\n",
        "plt.legend()\n",
        "plt.grid(True, linestyle ='--', alpha=0.5)\n",
        "plt.xlim([points[0][0] - 6, points[0][0] + 6])\n",
        "plt.ylim([points[0][1] - 2, points[0][1] + 11])\n",
        " \n",
        "plt.title('Task 4')\n",
        "plt.xlabel('x')\n",
        "plt.ylabel('y')\n",
        " \n",
        "plt.show()"
      ],
      "metadata": {
        "colab": {
          "base_uri": "https://localhost:8080/",
          "height": 512
        },
        "id": "CBsqDFizD_YK",
        "outputId": "801fee1e-ebdd-43a8-d7d1-56c5db162899"
      },
      "execution_count": 5,
      "outputs": [
        {
          "output_type": "display_data",
          "data": {
            "text/plain": [
              "<Figure size 1008x576 with 1 Axes>"
            ],
            "image/png": "[encoded data removed]"
          },
          "metadata": {
            "needs_background": "light"
          }
        }
      ]
    },
    {
      "cell_type": "markdown",
      "metadata": {
        "id": "mrby3EfiSDKJ"
      },
      "source": [
        "# Задание 5"
      ]
    },
    {
      "cell_type": "markdown",
      "metadata": {
        "id": "J6AZ8785VkQd"
      },
      "source": [
        "1000 человек бросают монетку. Каждый бросил 10 раз подряд.\n",
        "\n",
        " 1. Какова вероятность того, что хотя бы у одного человека монетка выпала 10 раз подряд той же самой стороной (орлом или решкой)? \n",
        " 2. Какова вероятность того, что хотя бы у одного человека монетка выпала 8 раз подряд той же самой стороной (орлом или решкой)? \n",
        " 3. Какова вероятность того, что ровно у троих человек из 1000 монетка выпала 10 раз подряд той же самой стороной (орлом или решкой)?"
      ]
    },
    {
      "cell_type": "markdown",
      "source": [
        "## Аналитика\n",
        "5.1 и 5.2 решаются одинаковой формулой.\n",
        "1. Найдем вероятность, что в серии бросков длины `n` есть серия длины `m` подряд той же самой стороной. Она может выпасть либо сразу, либо спустя несколько бросков, причём бросок до неё должен быть другой стороной:\n",
        "\n",
        "$P(A) = \\frac{1}{2^m} + t \\cdot \\frac{1}{2} \\cdot \\frac{1}{2^m}$\n",
        "\n",
        "Подсерия может встать на любую из $t = n - m$ позиций, так учитываем её \"сдвиг\". Нас интересует серия подряд любой стороной монеты, поэтому:\n",
        "\n",
        "$P(A) = \\frac{2 + t}{2^m}$.\n",
        "2. $P(\\overline{A})$ — человеку не выпала серия подряд из $m$.\n",
        "3. Если никому не выпала заданная серия, то противоположным событием будет, что хоть кому-то выпала:\n",
        "\n",
        "$1 - P(\\overline{A})^{testers}$"
      ],
      "metadata": {
        "id": "C6TkkyFhwKQc"
      }
    },
    {
      "cell_type": "code",
      "source": [
        "def probability_at_least_one(required, total, testers):\n",
        "  return 1 - np.power(1 - ((total - required + 2) / np.power(2, required)), testers)"
      ],
      "metadata": {
        "id": "r8vqh-VbKuiE"
      },
      "execution_count": 6,
      "outputs": []
    },
    {
      "cell_type": "code",
      "source": [
        "print(f\"5.1: {probability_at_least_one(10, 10, 1000)}\")"
      ],
      "metadata": {
        "colab": {
          "base_uri": "https://localhost:8080/"
        },
        "id": "csIN9vy4xIxM",
        "outputId": "dd625385-caf8-4d6f-d5d6-3ce1dea7fcf7"
      },
      "execution_count": 7,
      "outputs": [
        {
          "output_type": "stream",
          "name": "stdout",
          "text": [
            "5.1: 0.858440454732242\n"
          ]
        }
      ]
    },
    {
      "cell_type": "code",
      "source": [
        "print(f\"5.2: {probability_at_least_one(8, 10, 1000)}\")"
      ],
      "metadata": {
        "colab": {
          "base_uri": "https://localhost:8080/"
        },
        "id": "jvl6y3CXxnP8",
        "outputId": "21cc569c-8cea-4197-f302-79ef79411bab"
      },
      "execution_count": 8,
      "outputs": [
        {
          "output_type": "stream",
          "name": "stdout",
          "text": [
            "5.2: 0.9999998552643654\n"
          ]
        }
      ]
    },
    {
      "cell_type": "markdown",
      "source": [
        "5.3 решается через Бернулли"
      ],
      "metadata": {
        "id": "L6e8Wdfex18D"
      }
    },
    {
      "cell_type": "code",
      "source": [
        "ans_5_3 = (factorial(1000) / (factorial(3) * factorial(997))) * np.power(probability_at_least_one(10, 10, 1), 3) * np.power(1 - probability_at_least_one(10, 10, 1), 997)\n",
        "print(f\"5.3: {ans_5_3}\")"
      ],
      "metadata": {
        "colab": {
          "base_uri": "https://localhost:8080/"
        },
        "id": "fR60JBPgyKm6",
        "outputId": "776db825-737d-4cc4-82c1-fef7938e28ff"
      },
      "execution_count": 11,
      "outputs": [
        {
          "output_type": "stream",
          "name": "stdout",
          "text": [
            "5.3: 0.1762873858121736\n"
          ]
        }
      ]
    },
    {
      "cell_type": "markdown",
      "source": [
        "При желании 5.3 можно также решить через локальную теорему Муавра — Лапласа. Однако будет определенная погрешность, потому что число испытаний большое, но не слишком:\n",
        "$P_nm ≃ \\frac{1}{\\sqrt{npq}} \\cdot φ(x)$.\n",
        "\n",
        "$x = \\frac{m-np}{\\sqrt{npq}}$\n",
        "\n",
        "$φ(x)$ - функция Гаусса.\n",
        "Найдем функцию Гаусса по таблице: φ(0.75) = 0.3056"
      ],
      "metadata": {
        "id": "UWzqdYphySV9"
      }
    },
    {
      "cell_type": "code",
      "source": [
        "ans_5_3_lp = (1 / np.sqrt(1000 * probability_at_least_one(10, 10, 1) * (1 - probability_at_least_one(10, 10, 1)))) * 0.3056\n",
        "print(f\"5.3 через Муавра-Лапласа: {ans_5_3_lp}\")"
      ],
      "metadata": {
        "colab": {
          "base_uri": "https://localhost:8080/"
        },
        "id": "LqSveAf8zAg2",
        "outputId": "864d6a33-71c9-432a-94ba-fd565d958b0f"
      },
      "execution_count": 12,
      "outputs": [
        {
          "output_type": "stream",
          "name": "stdout",
          "text": [
            "5.3 через Муавра-Лапласа: 0.21888341746682627\n"
          ]
        }
      ]
    },
    {
      "cell_type": "code",
      "source": [
        "print(f\"Погрешность: {np.absolute(ans_5_3-ans_5_3_lp)}\")"
      ],
      "metadata": {
        "colab": {
          "base_uri": "https://localhost:8080/"
        },
        "id": "n_SP1GqDzEh6",
        "outputId": "b8d98b13-4445-4922-b20c-23725c955dba"
      },
      "execution_count": 22,
      "outputs": [
        {
          "output_type": "stream",
          "name": "stdout",
          "text": [
            "Погрешность: 0.04259603165465267\n"
          ]
        }
      ]
    },
    {
      "cell_type": "markdown",
      "source": [
        "## Метод Монте-Карло\n",
        "Все 3 задания можно просимулировать через одну функцию `def monte_carlo`, которая принимает на вход:\n",
        "- `tests`- сколько симуляций надо совершить\n",
        "- `testers`- сколько тестеров (людей) в одной симуляции\n",
        "- `coin_flips` - сколько бросков монеты делает один тестер\n",
        "- `target_flips` - сколько подряд бросков монеты одной стороной считается успехом\n",
        "- `limit` - есть ли предел, если `= 0`, то считаем, что его нет\n",
        "\n",
        "Внутри функция содержит несколько счётчиков:\n",
        "- `gs` - кол-во глобальных успехов\n",
        "- `ts` - кол-во успехов внутри одной симуляции \n",
        "- `ls` - локальный успех одного тестера\n",
        "\n",
        "Соответственно, есть определенная оптимизация:\n",
        "- Если `limit = 0`, то симуляция обрывается и считается успешной, как только был достигнут хотя бы один `ls`\n",
        "- Если `limit > 0`, то симуляция обрывается и считается неуспешной, если `ts > limit`"
      ],
      "metadata": {
        "id": "qi9hmQ3ozo4v"
      }
    },
    {
      "cell_type": "code",
      "source": [
        "def monte_carlo(tests, testers, coin_flips, target_flips, limit = 0):\n",
        "  gs = 0\n",
        "  for test in range(tests):\n",
        "    ts = 0\n",
        "    for tester in range(testers):\n",
        "      ls = 0\n",
        "      seq = np.random.choice([1, 0], size = coin_flips, p = [.5, .5])\n",
        "      if np.sum(seq) >= target_flips or np.sum(seq) <= (coin_flips - target_flips):\n",
        "          for pos in range(coin_flips - target_flips + 1):\n",
        "            if np.sum(seq[0 + pos: target_flips + pos]) in [target_flips, 0]:\n",
        "              ls = 1\n",
        "              break\n",
        "      if ls:\n",
        "        ts += 1\n",
        "        if limit and ts > limit:\n",
        "          ts = 0\n",
        "          break\n",
        "        elif limit == 0:\n",
        "          break\n",
        "    if limit: \n",
        "      ts = 0 if ts < limit else 1\n",
        "    gs += ts\n",
        "\n",
        "  return gs / tests"
      ],
      "metadata": {
        "id": "c4rddeINP8lt"
      },
      "execution_count": 8,
      "outputs": []
    },
    {
      "cell_type": "code",
      "source": [
        "print(f\"5.1: {monte_carlo(1000, 1000, 10, 10)}\")"
      ],
      "metadata": {
        "colab": {
          "base_uri": "https://localhost:8080/"
        },
        "id": "I05Gy01N1SLe",
        "outputId": "63fde053-3717-43eb-f472-a4244e74b2b3"
      },
      "execution_count": 266,
      "outputs": [
        {
          "output_type": "stream",
          "name": "stdout",
          "text": [
            "5.1: 0.854\n"
          ]
        }
      ]
    },
    {
      "cell_type": "code",
      "source": [
        "print(f\"5.2: {monte_carlo(1000, 1000, 10, 8)}\")"
      ],
      "metadata": {
        "colab": {
          "base_uri": "https://localhost:8080/"
        },
        "id": "resYlv2u1fZT",
        "outputId": "946611d2-0518-4c0d-9ee6-0f0f9f9fcfd5"
      },
      "execution_count": 267,
      "outputs": [
        {
          "output_type": "stream",
          "name": "stdout",
          "text": [
            "5.2: 1.0\n"
          ]
        }
      ]
    },
    {
      "cell_type": "code",
      "source": [
        "print(f\"5.3: {monte_carlo(10000, 1000, 10, 10, limit = 3)}\")"
      ],
      "metadata": {
        "colab": {
          "base_uri": "https://localhost:8080/"
        },
        "id": "oMt1I6D31lY4",
        "outputId": "0e6e57dc-6362-4e5c-e30b-565a1189b215"
      },
      "execution_count": 183,
      "outputs": [
        {
          "output_type": "stream",
          "name": "stdout",
          "text": [
            "5.3: 0.1742\n"
          ]
        }
      ]
    }
  ]
}