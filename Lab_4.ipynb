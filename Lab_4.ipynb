{
  "nbformat": 4,
  "nbformat_minor": 0,
  "metadata": {
    "colab": {
      "provenance": [],
      "toc_visible": true
    },
    "kernelspec": {
      "name": "python3",
      "display_name": "Python 3"
    }
  },
  "cells": [
    {
      "cell_type": "markdown",
      "metadata": {
        "id": "hGClrhQA9SAk"
      },
      "source": [
        "# Деревья решений"
      ]
    },
    {
      "cell_type": "markdown",
      "metadata": {
        "id": "veekMy8WRjBi"
      },
      "source": [
        "## Построение дерева"
      ]
    },
    {
      "cell_type": "markdown",
      "metadata": {
        "id": "SYkVwAFiUHXj"
      },
      "source": [
        "Опишем жадный алгоритм построения бинарного дерева решений:\n",
        "1. Начинаем со всей обучающей выборки $X$, которую помещаем в корень $R_1$. \n",
        "2. Задаём функционал качества $Q(X, j, t)$ и критерий остановки. \n",
        "3. Запускаем построение из корня: $SplitNode(1, R_1)$\n",
        "\n",
        "Функция $SplitNode(m, R_m)$\n",
        "1. Если выполнен критерий остановки, то выход.\n",
        "2. Находим наилучший с точки зрения $Q$ предикат: $j, t$: $[x_j<t]$\n",
        "3. Помещаем предикат в вкршину и получаем с его помощью разбиение $X$ на две части: $R_{left} = \\lbrace x|x_j<t \\rbrace$ и $R_{right} = \\lbrace x|x_j \\geqslant t \\rbrace$\n",
        "4. Поместим $R_{left}$ и $R_{right}$ соответсвенно в левое и правое поддерево.\n",
        "5. Рекурсивно повторяем $SplitNode(left, R_{left})$ и $SplitNode(right, R_{right})$.\n",
        "\n",
        "В конце поставим в соответствие каждому листу ответ. Для задачи классификации - это самый частый среди объектов класс или вектор с долями классов (можно интерпретировать как вероятности):\n",
        "$$ c_v = \\arg \\max_{k\\in Y} \\sum_{(x_i,y_i) \\in R_v} [y_i=k]  $$"
      ]
    },
    {
      "cell_type": "markdown",
      "metadata": {
        "id": "9P6FsdBog4Ai"
      },
      "source": [
        "## Функционал качества для деревьев решений\n"
      ]
    },
    {
      "cell_type": "markdown",
      "metadata": {
        "id": "9VAKO0aykGBD"
      },
      "source": [
        "Энтропия Шеннона для системы с N возможными состояниями определяется по формуле:\n",
        "$$H = - \\sum_{i=0}^{N} p_i\\log_2p_i $$"
      ]
    },
    {
      "cell_type": "markdown",
      "metadata": {
        "id": "5582B-1Fn2bw"
      },
      "source": [
        "где $p_i$ – вероятности нахождения системы в $i$-ом состоянии. \n",
        "\n",
        "Это очень важное понятие теории информации, которое позволяет оценить количество информации (степень хаоса в системе). Чем выше энтропия, тем менее упорядочена система и наоборот. С помощью энтропии мы формализуем функционал качества для разделение выборки (для задачи классификации)."
      ]
    },
    {
      "cell_type": "code",
      "metadata": {
        "id": "PbcMUd7bvk05"
      },
      "source": [
        "import numpy as np\n",
        "import pandas as pd\n",
        "\n",
        "import matplotlib.pyplot as plt\n",
        "\n",
        "import random\n",
        "from pprint import pprint"
      ],
      "execution_count": 1,
      "outputs": []
    },
    {
      "cell_type": "markdown",
      "metadata": {
        "id": "4AdLxP9CowTm"
      },
      "source": [
        "Код для расчёта энтропии:"
      ]
    },
    {
      "cell_type": "code",
      "metadata": {
        "id": "2mT8Jq8Av2sM"
      },
      "source": [
        "def entropy(y):\n",
        "    \n",
        "    _, counts = np.unique(y, return_counts=True)\n",
        "\n",
        "    probabilities = counts / counts.sum()\n",
        "    entropy = sum(probabilities * -np.log2(probabilities))\n",
        "     \n",
        "    return entropy"
      ],
      "execution_count": 2,
      "outputs": []
    },
    {
      "cell_type": "markdown",
      "metadata": {
        "id": "Xk9etb2vo7fK"
      },
      "source": [
        "Здесь $y$ - это массив значений целевой переменной"
      ]
    },
    {
      "cell_type": "markdown",
      "metadata": {
        "id": "07TCw0USzLus"
      },
      "source": [
        "Энтропия – по сути степень хаоса (или неопределенности) в системе. Уменьшение энтропии называют приростом информации (information gain, IG).\n",
        "\n",
        "Обочначим $R_v$ - объекты, которые нужно разделить в помощью предиката в вершине $v$. Запишем формулу для расчёта информационного прироста:\n",
        "$$ Q = IG = H(R_v) - (H(R_{left})+H(R_{right}))$$\n",
        "\n",
        "На каждом шаге нам нужно максимизировать этот функционал качества. Как это делать? Например, так можно перебрать $t$ для выбранного $j$."
      ]
    },
    {
      "cell_type": "markdown",
      "metadata": {
        "id": "trEWHDoXg_p9"
      },
      "source": [
        "Предыдущая версия формулы прироста информации слишком упрощена. В работе необходимо использовать более устойчивую формулу, которая учитывает не только энтропию подмножеств, но и их размер. \n",
        "\n",
        "$$ Q = IG = H(R_v) - \\Big (\\frac{|R_{left}|} {|R_{v}|} H(R_{left})+ \\frac{|R_{right}|} {|R_{v}|} H(R_{right})\\Big)$$\n",
        "\n",
        "где, $|R_{v}|$, $|R_{left}|$ и $|R_{right}|$ - количество элементов в соответствующих множествах."
      ]
    },
    {
      "cell_type": "markdown",
      "metadata": {
        "id": "9xmN6V_N1xBr"
      },
      "source": [
        "\n",
        "### Задание 4.1"
      ]
    },
    {
      "cell_type": "markdown",
      "metadata": {
        "id": "nWFHZScF2CBF"
      },
      "source": [
        "Реализуйте алгоритм построения дерева. Должны быть отдельные функции (методы) для расчёта энтропии (уже есть), для разделения дерева (используйте `pandas`), для подсчёта функционала качества $IG$, для выбора наилучшего разделения (с учетом признакоd и порогов), для проверки критерия остановки.\n",
        "\n",
        "Для набора данных `iris` реализуйте алгоритм и минимум три из разными критерия остановки из перечисленных ниже:\n",
        "* максимальной глубины дерева = 5\n",
        "* минимального числа объектов в листе = 5\n",
        "* максимальное количество листьев в дереве = 5\n",
        "* purity (остановка, если все объекты в листе относятся к одному классу)\n",
        "\n",
        "Реализуйте функцию `predict` (на вход функции подаётся датафрейм с объектами)\n",
        "\n",
        "Оцените точность каждой модели с помощью метрики доля правильных ответов (`from sklearn.metrics import accuracy_score` или реализовать свою)."
      ]
    },
    {
      "cell_type": "code",
      "source": [
        "from sklearn.datasets import load_iris\n",
        "from sklearn.model_selection import train_test_split\n",
        "from sklearn.metrics import accuracy_score\n",
        "\n",
        "data = load_iris()\n",
        "X = pd.DataFrame(data=data.data, columns=data.feature_names)\n",
        "y = pd.Series(data.target)\n",
        "\n",
        "X_train, X_test, y_train, y_test = train_test_split(X, y, test_size=0.3)"
      ],
      "metadata": {
        "id": "lIIFBpbvuKOV"
      },
      "execution_count": 3,
      "outputs": []
    },
    {
      "cell_type": "code",
      "source": [
        "# класс ноды-решения, хранит в себе порог фичи и её индекс, ссылается на двух ребенков\n",
        "class TreeNodeDecision():\n",
        "  def __init__(self, feature, threshold, left, right):\n",
        "    self.feature = feature\n",
        "    self.threshold = threshold\n",
        "    self.left = left\n",
        "    self.right = right"
      ],
      "metadata": {
        "id": "J65W2v22yQN7"
      },
      "execution_count": 4,
      "outputs": []
    },
    {
      "cell_type": "code",
      "source": [
        "# класс ноды-класса, хранит в себе предполагаемый класс объекта\n",
        "class TreeNodeClass():\n",
        "  def __init__(self, _class):\n",
        "    self._class = _class"
      ],
      "metadata": {
        "id": "ErVU1GDva2vI"
      },
      "execution_count": 5,
      "outputs": []
    },
    {
      "cell_type": "code",
      "source": [
        "class MyDecisionTreeClassifier():\n",
        "  def __init__(self, min_samples_leaf=5, max_depth=5, purity=True):\n",
        "    self.root = None\n",
        "    self.min_samples_leaf = min_samples_leaf\n",
        "    self.max_depth = max_depth\n",
        "    self.purity = purity\n",
        "\n",
        "  # функция для отрисовки ноды на заданной глубине\n",
        "  def draw_node(self, node, depth, special_symbol=\"\"):\n",
        "    depth_symbol = \"|   \"\n",
        "    node_symbol = \"|--- \"\n",
        "    s = \"\\n\"\n",
        "    for d in range(depth - 1):\n",
        "      s += depth_symbol\n",
        "    s += node_symbol\n",
        "    if type(node) is TreeNodeClass:\n",
        "      s += \"class: \" + str(node._class)\n",
        "    else:\n",
        "      s += \"feature_\" + str(node.feature) + special_symbol + str(node.threshold)\n",
        "    return s\n",
        "\n",
        "  # функция для отрисовки всего дерева с заданной ноды\n",
        "  def draw_tree(self, node, depth=0):\n",
        "    s = \"\"\n",
        "    depth += 1\n",
        "    if type(node) is TreeNodeDecision:\n",
        "      s += self.draw_node(node, depth, \" <= \") + self.draw_tree(node.left, depth) \n",
        "      s += self.draw_node(node, depth, \" > \") + self.draw_tree(node.right, depth)\n",
        "    elif type(node) is TreeNodeClass:\n",
        "      s += self.draw_node(node, depth)\n",
        "    return s\n",
        "\n",
        "  # функция для предсказания класса объекта. циклично спускается по дереву, пока не встретит первый листок (ноду-класс)\n",
        "  def predict(self, x):\n",
        "    predictions = []\n",
        "    for index, row in x.iterrows():\n",
        "      current_node = self.root\n",
        "      while (type(current_node) is not TreeNodeClass):\n",
        "        current_node = current_node.left if (row[current_node.feature] <= current_node.threshold) else current_node.right\n",
        "      predictions.append(current_node._class)\n",
        "    return predictions\n",
        "\n",
        "  # функция для проверки критерия остановки (нода -> листок)\n",
        "  # проверка на purity и наличие в ноде менее, чем двух минимальных \"размеров\" листков\n",
        "  # т.к. нода-решение должна иметь возможность разбиться на 2 листка -> содержать в себее более, чем два минимальных \"размера\" листков\n",
        "  def node_stop_check(self, x):\n",
        "    return len(x) < self.min_samples_leaf * 2 or (len(x.unique()) == 1 and self.purity)\n",
        "    \n",
        "  # функция для разделения дерева\n",
        "  def tree_split(self, x, feature, threshold):\n",
        "    return x[x[x.columns[feature]] <= threshold], x[x[x.columns[feature]] > threshold]\n",
        "\n",
        "  # функция для подсчёта функционала качества\n",
        "  def calculate_infromation_gain(self, origin, left, right):\n",
        "    return (entropy(origin) - ((len(left) / len(origin)) * entropy(left) + (len(right) / len(origin)) * entropy(right)))\n",
        "\n",
        "  # функция для выбора наилучшего разделения\n",
        "  def tree_best_split(self, x, y):\n",
        "    samples, features = x.shape\n",
        "    max_information_gain = -1\n",
        "    best_feature, best_threshold = -1, -1\n",
        "    x_left, y_left, x_right, y_right = None, None, None, None\n",
        "    for feature in range(features):\n",
        "      for sample in range(samples):\n",
        "        threshold = x.iloc[sample, feature]\n",
        "        temp_x_left, temp_x_right = self.tree_split(x, feature, threshold)\n",
        "        temp_y_left, temp_y_right = y[y.index.isin(temp_x_left.index)], y[y.index.isin(temp_x_right.index)]\n",
        "        temp_information_gain = self.calculate_infromation_gain(y, temp_y_left, temp_y_right)\n",
        "        if temp_information_gain > max_information_gain and len(temp_x_left) >= self.min_samples_leaf and len(temp_x_right) >= self.min_samples_leaf:\n",
        "          best_feature, best_threshold = feature, threshold\n",
        "          x_left, y_left, x_right, y_right = temp_x_left, temp_y_left, temp_x_right, temp_y_right\n",
        "          max_information_gain = temp_information_gain\n",
        "    return (best_feature, best_threshold, x_left, y_left, x_right, y_right)\n",
        "\n",
        "  # функция условного роста дерева, пока есть возможности (глубина и другие критерии остановки соблюдены)\n",
        "  def tree_grow(self, x, y, curr_depth=0):\n",
        "    if (self.node_stop_check(y) or curr_depth == self.max_depth):\n",
        "      return TreeNodeClass(y.value_counts().idxmax())\n",
        "    else:\n",
        "      feature, threshold, x_left, y_left, x_right, y_right = self.tree_best_split(x, y)\n",
        "      LeftNode = self.tree_grow(x_left, y_left, curr_depth)\n",
        "      RightNode = self.tree_grow(x_right, y_right, curr_depth)\n",
        "      curr_depth += 1\n",
        "      return TreeNodeDecision(feature, threshold, LeftNode, RightNode)\n",
        "  \n",
        "  # функция обучения\n",
        "  def fit(self, x, y):\n",
        "    return self.tree_grow(x, y)\n",
        "\n",
        "  # функция вывода\n",
        "  def __str__(self):\n",
        "    return self.draw_tree(self.root)\n"
      ],
      "metadata": {
        "id": "6N-8z_guzFpv"
      },
      "execution_count": 6,
      "outputs": []
    },
    {
      "cell_type": "code",
      "source": [
        "# создание экземпляра класса с заданными параметрами\n",
        "my_tree = MyDecisionTreeClassifier(min_samples_leaf=5, max_depth=5, purity=True)\n",
        "# обучение\n",
        "my_tree.root = my_tree.fit(X_train, y_train)\n",
        "# вывод\n",
        "print(my_tree)\n",
        "\n",
        "print(\"\\n\")\n",
        "\n",
        "# предсказание и оценка\n",
        "y_predicted = my_tree.predict(X_test)\n",
        "accuracy = np.round(accuracy_score(y_predicted, y_test), 2)\n",
        "print(f\"Accuracy: {accuracy}\")"
      ],
      "metadata": {
        "colab": {
          "base_uri": "https://localhost:8080/"
        },
        "id": "ZwCcwzmOTDUi",
        "outputId": "9858f283-1cdf-48c5-dc2b-1598e6ea3c50"
      },
      "execution_count": 7,
      "outputs": [
        {
          "output_type": "stream",
          "name": "stdout",
          "text": [
            "\n",
            "|--- feature_2 <= 1.9\n",
            "|   |--- class: 0\n",
            "|--- feature_2 > 1.9\n",
            "|   |--- feature_3 <= 1.7\n",
            "|   |   |--- feature_2 <= 4.7\n",
            "|   |   |   |--- class: 1\n",
            "|   |   |--- feature_2 > 4.7\n",
            "|   |   |   |--- class: 1\n",
            "|   |--- feature_3 > 1.7\n",
            "|   |   |--- feature_0 <= 5.9\n",
            "|   |   |   |--- class: 2\n",
            "|   |   |--- feature_0 > 5.9\n",
            "|   |   |   |--- class: 2\n",
            "\n",
            "\n",
            "Accuracy: 0.93\n"
          ]
        }
      ]
    },
    {
      "cell_type": "markdown",
      "source": [
        "### sklearn реализация"
      ],
      "metadata": {
        "id": "_BP8Mwyzv_s2"
      }
    },
    {
      "cell_type": "code",
      "source": [
        "from sklearn.tree import DecisionTreeClassifier \n",
        "from sklearn import tree\n",
        "\n",
        "# всё тоже самое, только из sklearn\n",
        "clf = DecisionTreeClassifier(max_depth=5, min_samples_leaf=5)\n",
        "clf.fit(X_train, y_train)\n",
        "\n",
        "text_representation = tree.export_text(clf)\n",
        "print(text_representation)\n",
        "\n",
        "print(\"\\n\")\n",
        "\n",
        "y_predicted = clf.predict(X_test)\n",
        "accuracy = np.round(accuracy_score(y_predicted, y_test), 2)\n",
        "print(f\"Accuracy: {accuracy}\")"
      ],
      "metadata": {
        "colab": {
          "base_uri": "https://localhost:8080/"
        },
        "id": "1WVNw-0d9wr9",
        "outputId": "53194d74-b787-48f7-ba63-cf883a1abe0d"
      },
      "execution_count": 8,
      "outputs": [
        {
          "output_type": "stream",
          "name": "stdout",
          "text": [
            "|--- feature_2 <= 2.70\n",
            "|   |--- class: 0\n",
            "|--- feature_2 >  2.70\n",
            "|   |--- feature_3 <= 1.75\n",
            "|   |   |--- feature_2 <= 4.80\n",
            "|   |   |   |--- class: 1\n",
            "|   |   |--- feature_2 >  4.80\n",
            "|   |   |   |--- class: 1\n",
            "|   |--- feature_3 >  1.75\n",
            "|   |   |--- feature_0 <= 6.00\n",
            "|   |   |   |--- class: 2\n",
            "|   |   |--- feature_0 >  6.00\n",
            "|   |   |   |--- class: 2\n",
            "\n",
            "\n",
            "\n",
            "Accuracy: 0.93\n"
          ]
        }
      ]
    },
    {
      "cell_type": "markdown",
      "source": [
        "### Вывод\n",
        "Реализация `sklearn` несколько отличается. Скорее всего, это связано с тем, как происходит поиск лучшего разбиения дерева — у меня он занимает `O(n ⋅ m)`, где `n` — количество объектов в выборке, а `m` — кол-во фич; в библиотеке, вероятно, этот момент как-то оптимизирован, потому что без оптимизации время работы на больших данных получилось бы слишком большим. В связи с этой оптимизацией и есть небольшие расхождения в порогах фич, иногда самих фичах, и точности."
      ],
      "metadata": {
        "id": "8m3fl-rVhQXM"
      }
    },
    {
      "cell_type": "markdown",
      "metadata": {
        "id": "BkyCjLcy_CTM"
      },
      "source": [
        "##  Случайный лес"
      ]
    },
    {
      "cell_type": "markdown",
      "metadata": {
        "id": "7fKZe1FyRgCa"
      },
      "source": [
        "Опишем алгоритм случайный лес (*random forest*) и попутно разберём основные идеи:\n",
        "\n",
        "1. Зададим $N$ - число деревьев в лесу.\n",
        "2. Для каждого $n$ из $N$ сгенерируем свою выборку $X_n$. Пусть $m$ - это количество объектов в $X$. При генерации каждой $X_n$ мы будем брать объекты $m$ раз с возвращением. То есть один и тот же объект может попасть в выборку несколько раз, а какие-то объекты не попадут. (Этот способ назвается бутстрап).\n",
        "3. По каждой $X_n$ построим решающее дерево $b_n$. Обычно стараются делать глубокие деревья. В качестве критериев остановки можно использовать `max_depth` или `min_samples_leaf` (например, пока в каждом листе не окажется по одному объекту). При каждом разбиении сначала выбирается $k$ (эвристика $k = \\sqrt d$, где $d$ - это число признаков объектов из выборки $X$) случайных признаков из исходных, и оптимальное разделение выборки ищется только среди них. Обратите внимание, что мы не выбрасываем оставшиеся признаки!\n",
        "4. Итоговый алгоритм будет представлять собой результат голосования (для классификации) и среднее арифметическое (для регрессии). Модификация алгоритма предполагает учёт весов каждого отдельного слабого алгоритма в ансамбле, но в этом особо нет смысла.\n"
      ]
    },
    {
      "cell_type": "markdown",
      "metadata": {
        "id": "YJBQ8lc0WyrN"
      },
      "source": [
        "### Задание 4.2"
      ]
    },
    {
      "cell_type": "markdown",
      "metadata": {
        "id": "y594Jn04ZTCm"
      },
      "source": [
        "В качестве набора данных используйте: https://www.kaggle.com/mathchi/churn-for-bank-customers\n",
        "\n",
        "Там есть описание и примеры работы с этими данными. Если кратко, речь идёт про задачу прогнозирования оттока клиентов. Есть данные о 10 тысячах клиентов банка, часть из которых больше не являются клиентами."
      ]
    },
    {
      "cell_type": "markdown",
      "metadata": {
        "id": "be_mLbdVW2oG"
      },
      "source": [
        "Используя либо свою реализацию, либо  `DecisionTreeClassifier` с разными настройками из `sklearn.tree` реализйте алгоритм \"случайный лес\". \n",
        "\n",
        "Найдите наилучшие гиперпараметры этого алгоритма: количество деревьев, критерий остановки, функционал качества, минимальное количество объектов в листьях и другие.\n",
        "\n",
        "Нельзя использовать готовую реализацию случайного леса из `sklearn`.\n",
        "\n",
        "В подобных задачах очень важна интерпретируемость алгоритма. Попытайтесь оценить информативность признаков, т.е. ответить а вопрос, значения каких признаков являются самыми важными индикаторами того, что банк потеряет клиента."
      ]
    },
    {
      "cell_type": "code",
      "source": [
        "# id датасета на google drive с kaggle\n",
        "file_id = \"1DffMn70vE4vb3KX_B20QpifGPiXER-Ge\"\n",
        "!gdown $file_id"
      ],
      "metadata": {
        "id": "RCDa-My_lAWn"
      },
      "execution_count": null,
      "outputs": []
    },
    {
      "cell_type": "code",
      "source": [
        "from sklearn.preprocessing import LabelEncoder"
      ],
      "metadata": {
        "id": "VzQmLqaRMjVM"
      },
      "execution_count": 28,
      "outputs": []
    },
    {
      "cell_type": "code",
      "source": [
        "data = pd.read_csv('/content/churn.csv', index_col=0)\n",
        "y = data[\"Exited\"]\n",
        "\n",
        "X = data\n",
        "\n",
        "# создание One Hot Encoder для заданных категориальных признаков\n",
        "dum_df = pd.get_dummies(X, columns=['Geography'], prefix=['geography'])\n",
        "X = X.merge(dum_df)\n",
        "\n",
        "# создание Label Encoder для заданных категориальных признаков\n",
        "labelencoder = LabelEncoder()\n",
        "X['Gender'] = labelencoder.fit_transform(X['Gender'])\n",
        "\n",
        "# удаление ненужных признаков, старых категориальных и таргета\n",
        "X = X.drop(columns=['CustomerId', 'Surname', 'Exited', 'Geography'])\n",
        "\n",
        "X_train, X_test, y_train, y_test = train_test_split(X, y, test_size=0.33, random_state=42)"
      ],
      "metadata": {
        "id": "LAwlD31NtMWT"
      },
      "execution_count": 37,
      "outputs": []
    },
    {
      "cell_type": "code",
      "source": [
        "# функция для создания бутстрап выборки\n",
        "# принимает и отдает на вход два датафрейма, которые разбиваются одинаково, поэтому задается сид рандома\n",
        "def get_bootstrap_sample(x, y, m):\n",
        "  seed = int(np.random.rand() * np.power(10, 9))\n",
        "  return x.sample(n=m,replace=True,random_state=seed), y.sample(n=m,replace=True,random_state=seed)"
      ],
      "metadata": {
        "id": "JTzA6L1M6wxP"
      },
      "execution_count": 31,
      "outputs": []
    },
    {
      "cell_type": "code",
      "source": [
        "class RandomForest():\n",
        "  def __init__(self, n_trees=100, max_depth=None, min_samples_leaf=1, criterion='gini'):\n",
        "    self.n_trees = n_trees\n",
        "    self.max_depth = max_depth\n",
        "    self.min_samples_leaf = min_samples_leaf\n",
        "    self.criterion = criterion\n",
        "  \n",
        "  # функция обучения, создает список деревьев-решений и важностей признаков\n",
        "  def fit(self, X, y, m):\n",
        "    self.trees = []\n",
        "    self.features_importance = []\n",
        "    for t in range(self.n_trees):\n",
        "      tree = DecisionTreeClassifier(criterion=self.criterion, max_depth=self.max_depth, min_samples_leaf=self.min_samples_leaf,max_features='sqrt')\n",
        "      tree_x, tree_y = get_bootstrap_sample(X, y, m)\n",
        "      tree.fit(tree_x, tree_y)\n",
        "      self.features_importance.append(tree.feature_importances_)\n",
        "      self.trees.append(tree)\n",
        "\n",
        "  # функция предсказания, проходится по каждому дереву, и присваивает самый частый предсказанный класс\n",
        "  def predict(self, X):\n",
        "    predictions = pd.DataFrame()\n",
        "    for i, tree in enumerate(self.trees):\n",
        "      predictions[i] = tree.predict(X)\n",
        "    return np.round(predictions.mean(axis=1))"
      ],
      "metadata": {
        "id": "Odec2w_K7X53"
      },
      "execution_count": 32,
      "outputs": []
    },
    {
      "cell_type": "code",
      "source": [
        "random_forest = RandomForest(n_trees=100, min_samples_leaf=1, criterion='gini')\n",
        "random_forest.fit(X_train, y_train, m=1500)\n",
        "\n",
        "y_predicted = random_forest.predict(X_test)\n",
        "accuracy = np.round(accuracy_score(y_predicted, y_test), 4)\n",
        "\n",
        "print(f\"Accuracy: {accuracy}\")"
      ],
      "metadata": {
        "colab": {
          "base_uri": "https://localhost:8080/"
        },
        "id": "yLRAiGOF9uNy",
        "outputId": "b4262735-4323-447f-b8b0-741b34edabc4"
      },
      "execution_count": 33,
      "outputs": [
        {
          "output_type": "stream",
          "name": "stdout",
          "text": [
            "Accuracy: 0.8703\n"
          ]
        }
      ]
    },
    {
      "cell_type": "code",
      "source": [
        "# расчет важности признаков — средняя важность каждого признака из всех деревьев \n",
        "features = pd.concat([pd.Series(X_test.columns, name=\"Feature\"), pd.Series(np.mean(random_forest.features_importance, axis=0), name=\"Feature Importance\")], axis=1)\n",
        "\n",
        "features.sort_values(by=[\"Feature Importance\"], ascending=False)"
      ],
      "metadata": {
        "colab": {
          "base_uri": "https://localhost:8080/",
          "height": 414
        },
        "id": "GYAP9rq4tAas",
        "outputId": "3cd8e46f-f7c5-46e5-90b1-92fe02cc9fd5"
      },
      "execution_count": 34,
      "outputs": [
        {
          "output_type": "execute_result",
          "data": {
            "text/plain": [
              "              Feature  Feature Importance\n",
              "2                 Age            0.233734\n",
              "8     EstimatedSalary            0.140290\n",
              "0         CreditScore            0.139170\n",
              "4             Balance            0.135686\n",
              "5       NumOfProducts            0.125831\n",
              "3              Tenure            0.085876\n",
              "7      IsActiveMember            0.043237\n",
              "1              Gender            0.024629\n",
              "10  geography_Germany            0.023229\n",
              "6           HasCrCard            0.020275\n",
              "9    geography_France            0.015359\n",
              "11    geography_Spain            0.012683"
            ],
            "text/html": [
              "\n",
              "  <div id=\"df-cd17c241-eb3e-41b3-a250-208dc312fc20\">\n",
              "    <div class=\"colab-df-container\">\n",
              "      <div>\n",
              "<style scoped>\n",
              "    .dataframe tbody tr th:only-of-type {\n",
              "        vertical-align: middle;\n",
              "    }\n",
              "\n",
              "    .dataframe tbody tr th {\n",
              "        vertical-align: top;\n",
              "    }\n",
              "\n",
              "    .dataframe thead th {\n",
              "        text-align: right;\n",
              "    }\n",
              "</style>\n",
              "<table border=\"1\" class=\"dataframe\">\n",
              "  <thead>\n",
              "    <tr style=\"text-align: right;\">\n",
              "      <th></th>\n",
              "      <th>Feature</th>\n",
              "      <th>Feature Importance</th>\n",
              "    </tr>\n",
              "  </thead>\n",
              "  <tbody>\n",
              "    <tr>\n",
              "      <th>2</th>\n",
              "      <td>Age</td>\n",
              "      <td>0.233734</td>\n",
              "    </tr>\n",
              "    <tr>\n",
              "      <th>8</th>\n",
              "      <td>EstimatedSalary</td>\n",
              "      <td>0.140290</td>\n",
              "    </tr>\n",
              "    <tr>\n",
              "      <th>0</th>\n",
              "      <td>CreditScore</td>\n",
              "      <td>0.139170</td>\n",
              "    </tr>\n",
              "    <tr>\n",
              "      <th>4</th>\n",
              "      <td>Balance</td>\n",
              "      <td>0.135686</td>\n",
              "    </tr>\n",
              "    <tr>\n",
              "      <th>5</th>\n",
              "      <td>NumOfProducts</td>\n",
              "      <td>0.125831</td>\n",
              "    </tr>\n",
              "    <tr>\n",
              "      <th>3</th>\n",
              "      <td>Tenure</td>\n",
              "      <td>0.085876</td>\n",
              "    </tr>\n",
              "    <tr>\n",
              "      <th>7</th>\n",
              "      <td>IsActiveMember</td>\n",
              "      <td>0.043237</td>\n",
              "    </tr>\n",
              "    <tr>\n",
              "      <th>1</th>\n",
              "      <td>Gender</td>\n",
              "      <td>0.024629</td>\n",
              "    </tr>\n",
              "    <tr>\n",
              "      <th>10</th>\n",
              "      <td>geography_Germany</td>\n",
              "      <td>0.023229</td>\n",
              "    </tr>\n",
              "    <tr>\n",
              "      <th>6</th>\n",
              "      <td>HasCrCard</td>\n",
              "      <td>0.020275</td>\n",
              "    </tr>\n",
              "    <tr>\n",
              "      <th>9</th>\n",
              "      <td>geography_France</td>\n",
              "      <td>0.015359</td>\n",
              "    </tr>\n",
              "    <tr>\n",
              "      <th>11</th>\n",
              "      <td>geography_Spain</td>\n",
              "      <td>0.012683</td>\n",
              "    </tr>\n",
              "  </tbody>\n",
              "</table>\n",
              "</div>\n",
              "      <button class=\"colab-df-convert\" onclick=\"convertToInteractive('df-cd17c241-eb3e-41b3-a250-208dc312fc20')\"\n",
              "              title=\"Convert this dataframe to an interactive table.\"\n",
              "              style=\"display:none;\">\n",
              "        \n",
              "  <svg xmlns=\"http://www.w3.org/2000/svg\" height=\"24px\"viewBox=\"0 0 24 24\"\n",
              "       width=\"24px\">\n",
              "    <path d=\"M0 0h24v24H0V0z\" fill=\"none\"/>\n",
              "    <path d=\"M18.56 5.44l.94 2.06.94-2.06 2.06-.94-2.06-.94-.94-2.06-.94 2.06-2.06.94zm-11 1L8.5 8.5l.94-2.06 2.06-.94-2.06-.94L8.5 2.5l-.94 2.06-2.06.94zm10 10l.94 2.06.94-2.06 2.06-.94-2.06-.94-.94-2.06-.94 2.06-2.06.94z\"/><path d=\"M17.41 7.96l-1.37-1.37c-.4-.4-.92-.59-1.43-.59-.52 0-1.04.2-1.43.59L10.3 9.45l-7.72 7.72c-.78.78-.78 2.05 0 2.83L4 21.41c.39.39.9.59 1.41.59.51 0 1.02-.2 1.41-.59l7.78-7.78 2.81-2.81c.8-.78.8-2.07 0-2.86zM5.41 20L4 18.59l7.72-7.72 1.47 1.35L5.41 20z\"/>\n",
              "  </svg>\n",
              "      </button>\n",
              "      \n",
              "  <style>\n",
              "    .colab-df-container {\n",
              "      display:flex;\n",
              "      flex-wrap:wrap;\n",
              "      gap: 12px;\n",
              "    }\n",
              "\n",
              "    .colab-df-convert {\n",
              "      background-color: #E8F0FE;\n",
              "      border: none;\n",
              "      border-radius: 50%;\n",
              "      cursor: pointer;\n",
              "      display: none;\n",
              "      fill: #1967D2;\n",
              "      height: 32px;\n",
              "      padding: 0 0 0 0;\n",
              "      width: 32px;\n",
              "    }\n",
              "\n",
              "    .colab-df-convert:hover {\n",
              "      background-color: #E2EBFA;\n",
              "      box-shadow: 0px 1px 2px rgba(60, 64, 67, 0.3), 0px 1px 3px 1px rgba(60, 64, 67, 0.15);\n",
              "      fill: #174EA6;\n",
              "    }\n",
              "\n",
              "    [theme=dark] .colab-df-convert {\n",
              "      background-color: #3B4455;\n",
              "      fill: #D2E3FC;\n",
              "    }\n",
              "\n",
              "    [theme=dark] .colab-df-convert:hover {\n",
              "      background-color: #434B5C;\n",
              "      box-shadow: 0px 1px 3px 1px rgba(0, 0, 0, 0.15);\n",
              "      filter: drop-shadow(0px 1px 2px rgba(0, 0, 0, 0.3));\n",
              "      fill: #FFFFFF;\n",
              "    }\n",
              "  </style>\n",
              "\n",
              "      <script>\n",
              "        const buttonEl =\n",
              "          document.querySelector('#df-cd17c241-eb3e-41b3-a250-208dc312fc20 button.colab-df-convert');\n",
              "        buttonEl.style.display =\n",
              "          google.colab.kernel.accessAllowed ? 'block' : 'none';\n",
              "\n",
              "        async function convertToInteractive(key) {\n",
              "          const element = document.querySelector('#df-cd17c241-eb3e-41b3-a250-208dc312fc20');\n",
              "          const dataTable =\n",
              "            await google.colab.kernel.invokeFunction('convertToInteractive',\n",
              "                                                     [key], {});\n",
              "          if (!dataTable) return;\n",
              "\n",
              "          const docLinkHtml = 'Like what you see? Visit the ' +\n",
              "            '<a target=\"_blank\" href=https://colab.research.google.com/notebooks/data_table.ipynb>data table notebook</a>'\n",
              "            + ' to learn more about interactive tables.';\n",
              "          element.innerHTML = '';\n",
              "          dataTable['output_type'] = 'display_data';\n",
              "          await google.colab.output.renderOutput(dataTable, element);\n",
              "          const docLink = document.createElement('div');\n",
              "          docLink.innerHTML = docLinkHtml;\n",
              "          element.appendChild(docLink);\n",
              "        }\n",
              "      </script>\n",
              "    </div>\n",
              "  </div>\n",
              "  "
            ]
          },
          "metadata": {},
          "execution_count": 34
        }
      ]
    },
    {
      "cell_type": "markdown",
      "source": [
        "### sklearn реализация"
      ],
      "metadata": {
        "id": "0ezJaiVyB3_R"
      }
    },
    {
      "cell_type": "code",
      "source": [
        "from sklearn.ensemble import RandomForestClassifier\n",
        "\n",
        "clf = RandomForestClassifier(max_depth=None, min_samples_leaf=1)\n",
        "\n",
        "clf.fit(X_train, y_train)\n",
        "fi = clf.feature_importances_\n",
        "\n",
        "y_predicted = clf.predict(X_test)\n",
        "accuracy = np.round(accuracy_score(y_predicted, y_test), 4)\n",
        "print(f\"Accuracy: {accuracy}\")"
      ],
      "metadata": {
        "colab": {
          "base_uri": "https://localhost:8080/"
        },
        "id": "lDX9a2X8yir2",
        "outputId": "b2ff8352-85c6-4051-cff6-eefad36da7b7"
      },
      "execution_count": 35,
      "outputs": [
        {
          "output_type": "stream",
          "name": "stdout",
          "text": [
            "Accuracy: 0.8691\n"
          ]
        }
      ]
    },
    {
      "cell_type": "code",
      "source": [
        "features[\"sklearn\"] = clf.feature_importances_\n",
        "features.sort_values(by=[\"sklearn\"], ascending=False)"
      ],
      "metadata": {
        "colab": {
          "base_uri": "https://localhost:8080/",
          "height": 414
        },
        "id": "Gr8g2e7CBpB_",
        "outputId": "a76f6288-2e4b-4d13-c2c8-0a58a77483bc"
      },
      "execution_count": 36,
      "outputs": [
        {
          "output_type": "execute_result",
          "data": {
            "text/plain": [
              "              Feature  Feature Importance   sklearn\n",
              "2                 Age            0.233734  0.236584\n",
              "8     EstimatedSalary            0.140290  0.145826\n",
              "0         CreditScore            0.139170  0.143073\n",
              "4             Balance            0.135686  0.142617\n",
              "5       NumOfProducts            0.125831  0.124633\n",
              "3              Tenure            0.085876  0.084946\n",
              "7      IsActiveMember            0.043237  0.041824\n",
              "10  geography_Germany            0.023229  0.021811\n",
              "1              Gender            0.024629  0.020038\n",
              "6           HasCrCard            0.020275  0.018754\n",
              "9    geography_France            0.015359  0.010536\n",
              "11    geography_Spain            0.012683  0.009357"
            ],
            "text/html": [
              "\n",
              "  <div id=\"df-46edc8d6-de06-4f58-b9e8-8291520c0ceb\">\n",
              "    <div class=\"colab-df-container\">\n",
              "      <div>\n",
              "<style scoped>\n",
              "    .dataframe tbody tr th:only-of-type {\n",
              "        vertical-align: middle;\n",
              "    }\n",
              "\n",
              "    .dataframe tbody tr th {\n",
              "        vertical-align: top;\n",
              "    }\n",
              "\n",
              "    .dataframe thead th {\n",
              "        text-align: right;\n",
              "    }\n",
              "</style>\n",
              "<table border=\"1\" class=\"dataframe\">\n",
              "  <thead>\n",
              "    <tr style=\"text-align: right;\">\n",
              "      <th></th>\n",
              "      <th>Feature</th>\n",
              "      <th>Feature Importance</th>\n",
              "      <th>sklearn</th>\n",
              "    </tr>\n",
              "  </thead>\n",
              "  <tbody>\n",
              "    <tr>\n",
              "      <th>2</th>\n",
              "      <td>Age</td>\n",
              "      <td>0.233734</td>\n",
              "      <td>0.236584</td>\n",
              "    </tr>\n",
              "    <tr>\n",
              "      <th>8</th>\n",
              "      <td>EstimatedSalary</td>\n",
              "      <td>0.140290</td>\n",
              "      <td>0.145826</td>\n",
              "    </tr>\n",
              "    <tr>\n",
              "      <th>0</th>\n",
              "      <td>CreditScore</td>\n",
              "      <td>0.139170</td>\n",
              "      <td>0.143073</td>\n",
              "    </tr>\n",
              "    <tr>\n",
              "      <th>4</th>\n",
              "      <td>Balance</td>\n",
              "      <td>0.135686</td>\n",
              "      <td>0.142617</td>\n",
              "    </tr>\n",
              "    <tr>\n",
              "      <th>5</th>\n",
              "      <td>NumOfProducts</td>\n",
              "      <td>0.125831</td>\n",
              "      <td>0.124633</td>\n",
              "    </tr>\n",
              "    <tr>\n",
              "      <th>3</th>\n",
              "      <td>Tenure</td>\n",
              "      <td>0.085876</td>\n",
              "      <td>0.084946</td>\n",
              "    </tr>\n",
              "    <tr>\n",
              "      <th>7</th>\n",
              "      <td>IsActiveMember</td>\n",
              "      <td>0.043237</td>\n",
              "      <td>0.041824</td>\n",
              "    </tr>\n",
              "    <tr>\n",
              "      <th>10</th>\n",
              "      <td>geography_Germany</td>\n",
              "      <td>0.023229</td>\n",
              "      <td>0.021811</td>\n",
              "    </tr>\n",
              "    <tr>\n",
              "      <th>1</th>\n",
              "      <td>Gender</td>\n",
              "      <td>0.024629</td>\n",
              "      <td>0.020038</td>\n",
              "    </tr>\n",
              "    <tr>\n",
              "      <th>6</th>\n",
              "      <td>HasCrCard</td>\n",
              "      <td>0.020275</td>\n",
              "      <td>0.018754</td>\n",
              "    </tr>\n",
              "    <tr>\n",
              "      <th>9</th>\n",
              "      <td>geography_France</td>\n",
              "      <td>0.015359</td>\n",
              "      <td>0.010536</td>\n",
              "    </tr>\n",
              "    <tr>\n",
              "      <th>11</th>\n",
              "      <td>geography_Spain</td>\n",
              "      <td>0.012683</td>\n",
              "      <td>0.009357</td>\n",
              "    </tr>\n",
              "  </tbody>\n",
              "</table>\n",
              "</div>\n",
              "      <button class=\"colab-df-convert\" onclick=\"convertToInteractive('df-46edc8d6-de06-4f58-b9e8-8291520c0ceb')\"\n",
              "              title=\"Convert this dataframe to an interactive table.\"\n",
              "              style=\"display:none;\">\n",
              "        \n",
              "  <svg xmlns=\"http://www.w3.org/2000/svg\" height=\"24px\"viewBox=\"0 0 24 24\"\n",
              "       width=\"24px\">\n",
              "    <path d=\"M0 0h24v24H0V0z\" fill=\"none\"/>\n",
              "    <path d=\"M18.56 5.44l.94 2.06.94-2.06 2.06-.94-2.06-.94-.94-2.06-.94 2.06-2.06.94zm-11 1L8.5 8.5l.94-2.06 2.06-.94-2.06-.94L8.5 2.5l-.94 2.06-2.06.94zm10 10l.94 2.06.94-2.06 2.06-.94-2.06-.94-.94-2.06-.94 2.06-2.06.94z\"/><path d=\"M17.41 7.96l-1.37-1.37c-.4-.4-.92-.59-1.43-.59-.52 0-1.04.2-1.43.59L10.3 9.45l-7.72 7.72c-.78.78-.78 2.05 0 2.83L4 21.41c.39.39.9.59 1.41.59.51 0 1.02-.2 1.41-.59l7.78-7.78 2.81-2.81c.8-.78.8-2.07 0-2.86zM5.41 20L4 18.59l7.72-7.72 1.47 1.35L5.41 20z\"/>\n",
              "  </svg>\n",
              "      </button>\n",
              "      \n",
              "  <style>\n",
              "    .colab-df-container {\n",
              "      display:flex;\n",
              "      flex-wrap:wrap;\n",
              "      gap: 12px;\n",
              "    }\n",
              "\n",
              "    .colab-df-convert {\n",
              "      background-color: #E8F0FE;\n",
              "      border: none;\n",
              "      border-radius: 50%;\n",
              "      cursor: pointer;\n",
              "      display: none;\n",
              "      fill: #1967D2;\n",
              "      height: 32px;\n",
              "      padding: 0 0 0 0;\n",
              "      width: 32px;\n",
              "    }\n",
              "\n",
              "    .colab-df-convert:hover {\n",
              "      background-color: #E2EBFA;\n",
              "      box-shadow: 0px 1px 2px rgba(60, 64, 67, 0.3), 0px 1px 3px 1px rgba(60, 64, 67, 0.15);\n",
              "      fill: #174EA6;\n",
              "    }\n",
              "\n",
              "    [theme=dark] .colab-df-convert {\n",
              "      background-color: #3B4455;\n",
              "      fill: #D2E3FC;\n",
              "    }\n",
              "\n",
              "    [theme=dark] .colab-df-convert:hover {\n",
              "      background-color: #434B5C;\n",
              "      box-shadow: 0px 1px 3px 1px rgba(0, 0, 0, 0.15);\n",
              "      filter: drop-shadow(0px 1px 2px rgba(0, 0, 0, 0.3));\n",
              "      fill: #FFFFFF;\n",
              "    }\n",
              "  </style>\n",
              "\n",
              "      <script>\n",
              "        const buttonEl =\n",
              "          document.querySelector('#df-46edc8d6-de06-4f58-b9e8-8291520c0ceb button.colab-df-convert');\n",
              "        buttonEl.style.display =\n",
              "          google.colab.kernel.accessAllowed ? 'block' : 'none';\n",
              "\n",
              "        async function convertToInteractive(key) {\n",
              "          const element = document.querySelector('#df-46edc8d6-de06-4f58-b9e8-8291520c0ceb');\n",
              "          const dataTable =\n",
              "            await google.colab.kernel.invokeFunction('convertToInteractive',\n",
              "                                                     [key], {});\n",
              "          if (!dataTable) return;\n",
              "\n",
              "          const docLinkHtml = 'Like what you see? Visit the ' +\n",
              "            '<a target=\"_blank\" href=https://colab.research.google.com/notebooks/data_table.ipynb>data table notebook</a>'\n",
              "            + ' to learn more about interactive tables.';\n",
              "          element.innerHTML = '';\n",
              "          dataTable['output_type'] = 'display_data';\n",
              "          await google.colab.output.renderOutput(dataTable, element);\n",
              "          const docLink = document.createElement('div');\n",
              "          docLink.innerHTML = docLinkHtml;\n",
              "          element.appendChild(docLink);\n",
              "        }\n",
              "      </script>\n",
              "    </div>\n",
              "  </div>\n",
              "  "
            ]
          },
          "metadata": {},
          "execution_count": 36
        }
      ]
    }
  ]
}