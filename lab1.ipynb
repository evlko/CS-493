{
  "nbformat": 4,
  "nbformat_minor": 0,
  "metadata": {
    "colab": {
      "provenance": [],
      "collapsed_sections": [
        "MFKSC2UUA7Ne",
        "Mth2u7nzAiqw",
        "JrEY8hzdfmM2",
        "mrm41pzufmNy",
        "2kJObRBHfmOd",
        "ylh_09YIfmOg",
        "QeBH-jT4fmOy"
      ]
    },
    "kernelspec": {
      "display_name": "Python 3",
      "language": "python",
      "name": "python3"
    },
    "language_info": {
      "codemirror_mode": {
        "name": "ipython",
        "version": 3
      },
      "file_extension": ".py",
      "mimetype": "text/x-python",
      "name": "python",
      "nbconvert_exporter": "python",
      "pygments_lexer": "ipython3",
      "version": "3.7.4"
    }
  },
  "cells": [
    {
      "cell_type": "markdown",
      "source": [
        "Перед началом выполнения, сделайте копию этого colab'а. Чтобы сделать копию нужно в пункте меню Файл выбрать \"Сохранить копию на диске\""
      ],
      "metadata": {
        "id": "131T1pm5PaF4"
      }
    },
    {
      "cell_type": "markdown",
      "metadata": {
        "id": "BsNwjQDRfmLY"
      },
      "source": [
        "# Задание 1"
      ]
    },
    {
      "cell_type": "markdown",
      "metadata": {
        "id": "wu6r1-s7fmLe"
      },
      "source": [
        "---"
      ]
    },
    {
      "cell_type": "markdown",
      "metadata": {
        "id": "zxRIdPO9gYyX"
      },
      "source": [
        "Напишите программу, которая будет решать систему линейных уравнений вида:\n",
        "\n",
        "\\begin{matrix} a_{11}x+a_{12}y=b_{1}&(1) \\\\ a_{21}x+a_{22}y=b_{2} &(2) \\end{matrix}\n",
        "​\t\n",
        "На вход программа должна принимать 2 строки.\n",
        "\n",
        "Каждая строка содержит 3 действительных числа через пробел: коэффициенты a и b.\n",
        "\n",
        "На выходе программа должна выдавать значения x и y в одну строку через пробел.\n",
        " \n",
        "\n",
        "Примечание 1. Для разделения строки на отдельные элементы используйте функцию split()\n",
        "\n",
        "Примечание 2. В качестве разделителя между целой и дробной частью используйте точку, например 0.2"
      ]
    },
    {
      "cell_type": "code",
      "metadata": {
        "id": "6sxlcLbVlrjl"
      },
      "source": [
        "def linan():\n",
        "  pass\n",
        "\n",
        "# enter you code"
      ],
      "execution_count": null,
      "outputs": []
    },
    {
      "cell_type": "markdown",
      "source": [
        "### Подсказка 1"
      ],
      "metadata": {
        "id": "kElPCFyiua9I"
      }
    },
    {
      "cell_type": "code",
      "source": [],
      "metadata": {
        "id": "jwjE2xldue0h"
      },
      "execution_count": null,
      "outputs": []
    },
    {
      "cell_type": "markdown",
      "metadata": {
        "id": "wLoVDMQnfmOv"
      },
      "source": [
        "# Задание 2"
      ]
    },
    {
      "cell_type": "markdown",
      "metadata": {
        "id": "6bmt_YF3fmOw"
      },
      "source": [
        "Напишите функцию `decorate_matrix`, которая получает на вход одно целое число больше единицы. Функция должна возвращать матрицу n на n, у которой на границах стоят единицы, а на всех остальных позициях(если остались позиции не на границах) стоят нули.\n",
        "\n",
        "Нужно сделать без использования  циклов.\n",
        "\n",
        "```\n",
        "# ожидаемый резальтат для аргумента 5\n",
        "array([[1., 1., 1., 1., 1.],\n",
        "[1., 0., 0., 0., 1.],\n",
        "[1., 0., 0., 0., 1.],\n",
        "[1., 0., 0., 0., 1.],\n",
        "[1., 1., 1., 1., 1.]])\n",
        "```\n",
        "\n"
      ]
    },
    {
      "cell_type": "markdown",
      "metadata": {
        "id": "75sxny1zSCbl"
      },
      "source": [
        "# Задание 3"
      ]
    },
    {
      "cell_type": "markdown",
      "metadata": {
        "id": "2Xq1tBBAS5UJ"
      },
      "source": [
        "1) реализуйте 2 функции:\n",
        "\n",
        "$f(x) = (x+a)^2 - b$ \n",
        "\n",
        "$g(x) = |f(x)|$\n",
        "\n",
        "2) Найдите аргументы, при которых достигается минимум функций $f(x)$ и $g(x)$\n",
        "\n",
        "Пример. \n",
        "Входные значение: $a=3$ и $b=4$\n",
        "\n",
        "Выходные значения:\n",
        "\n",
        "`-3.0 -1.0`"
      ]
    },
    {
      "cell_type": "markdown",
      "metadata": {
        "id": "efml9GzISC9Q"
      },
      "source": [
        "# Задание 4"
      ]
    },
    {
      "cell_type": "markdown",
      "metadata": {
        "id": "SDZvKcsTVbAW"
      },
      "source": [
        "Постройте графики для функций из предыдущего задания и отметьте другим цветом на графиках точки найденных минимумов."
      ]
    },
    {
      "cell_type": "markdown",
      "metadata": {
        "id": "mrby3EfiSDKJ"
      },
      "source": [
        "# Задание 5"
      ]
    },
    {
      "cell_type": "markdown",
      "metadata": {
        "id": "J6AZ8785VkQd"
      },
      "source": [
        "1000 человек бросают монетку. Каждый бросил 10 раз подряд.\n",
        "\n",
        " 1. Какова вероятность того, что хотя бы у одного человека монетка выпала 10 раз подряд той же самой стороной (орлом или решкой)? \n",
        " 2. Какова вероятность того, что хотя бы у одного человека монетка выпала 8 раз подряд той же самой стороной (орлом или решкой)? \n",
        " 3. Какова вероятность того, что ровно у троих человек из 1000 монетка выпала 10 раз подряд той же самой стороной (орлом или решкой)?"
      ]
    }
  ]
}