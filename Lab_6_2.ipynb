{
  "nbformat": 4,
  "nbformat_minor": 0,
  "metadata": {
    "colab": {
      "provenance": [],
      "toc_visible": true
    },
    "kernelspec": {
      "display_name": "Python 3",
      "language": "python",
      "name": "python3"
    }
  },
  "cells": [
    {
      "cell_type": "markdown",
      "metadata": {
        "id": "lkoop-MT9if-"
      },
      "source": [
        "# Нейрон с различными функциями активации"
      ]
    },
    {
      "cell_type": "markdown",
      "metadata": {
        "id": "IUjxg_IS31tn"
      },
      "source": [
        "В этом задании нужно будет: \n",
        "- самостоятельно реализовать класс **`Neuron()`** с различными функциями активации (ReLU, LeakyReLU и ELU)\n",
        "\n",
        "- обучить и протестировать этот класс на сгенерированных и реальных данных\n",
        "\n",
        "**Достаточно реализовать ReLU и ещё одну из двух.**"
      ]
    },
    {
      "cell_type": "code",
      "metadata": {
        "id": "p-OYlV519igB"
      },
      "source": [
        "from matplotlib import pyplot as plt\n",
        "from matplotlib.colors import ListedColormap\n",
        "\n",
        "import numpy as np\n",
        "import pandas as pd\n",
        "\n",
        "from sklearn.model_selection import train_test_split\n",
        "from sklearn.metrics import accuracy_score\n",
        "from sklearn.preprocessing import StandardScaler\n",
        "\n",
        "import torch\n",
        "from torch.nn import Linear, ReLU, LeakyReLU, ELU"
      ],
      "execution_count": 1,
      "outputs": []
    },
    {
      "cell_type": "code",
      "metadata": {
        "id": "t1VCt_rDHum3"
      },
      "source": [
        "RANDOM_SEED = 42\n",
        "np.random.seed(RANDOM_SEED)"
      ],
      "execution_count": 2,
      "outputs": []
    },
    {
      "cell_type": "markdown",
      "metadata": {
        "id": "cgpFOaPm9igG"
      },
      "source": [
        "В данном случае мы снова решаем задачу бинарной классификации (2 класса: 1 или 0). Мы уже выяснили (в ноутбуке про `logloss`), что плохо брать для классификации квадратичную функцию потерь, однако здесь для простоты возьмём её:\n",
        "\n",
        "$$\n",
        "Loss(\\hat{y}, y) = \\frac{1}{n}\\sum_{i=1}^{n} (\\hat{y_i} - y_i)^2\n",
        "$$  \n",
        "\n",
        "Здесь $w \\cdot X_i$ - скалярное произведение, а $\\hat{y_i} = \\sigma(w \\cdot X_i) =\\frac{1}{1+e^{-w \\cdot X_i}} $ - сигмоида ($i$ -- номер объекта в выборке). "
      ]
    },
    {
      "cell_type": "code",
      "metadata": {
        "id": "yn3F0layHunD"
      },
      "source": [
        "def loss(y_pred, y):\n",
        "    '''\n",
        "    Считаем среднеквадратичную ошибку\n",
        "    '''\n",
        "    y_pred = y_pred.reshape(-1, 1)\n",
        "    y = np.array(y).reshape(-1, 1)\n",
        "    return 0.5 * np.mean((y_pred - y) ** 2)"
      ],
      "execution_count": 3,
      "outputs": []
    },
    {
      "cell_type": "markdown",
      "metadata": {
        "id": "rYoQAdXoHunK"
      },
      "source": [
        "Далее будут предложены несколько функций активации, и Вам нужно реализовать класс `Neuron` по аналогии с тем, как это было на семинаре. Сам принцип тот же, но меняются формула обновления весов и формула предсказания."
      ]
    },
    {
      "cell_type": "markdown",
      "source": [
        "## Нейрон с ReLU"
      ],
      "metadata": {
        "id": "MREvyIGaFinn"
      }
    },
    {
      "cell_type": "markdown",
      "metadata": {
        "id": "AMA7Gi6KHunQ"
      },
      "source": [
        "ReLU самая часто используемая (по крайней мере, пару лет назад) функция активации в нейронных сетях. Выглядит она очень просто:\n",
        "\n",
        "\\begin{equation*}\n",
        "ReLU(x) =\n",
        " \\begin{cases}\n",
        "   0, &\\text{$x \\le 0$}\\\\\n",
        "   x, &\\text{$x \\gt 0$}\n",
        " \\end{cases}\n",
        "\\end{equation*}\n",
        "\n",
        "Или по-другому:\n",
        "\n",
        "$$\n",
        "ReLU(x) = \\max(0, x)\n",
        "$$\n",
        "\n",
        "В (свободном) переводе Rectified Linear Unit = \"Усечённая линейная функция\". Собственно, мы по сути просто не даём проходить отрицательным числам.\n",
        "\n",
        "Производная здесь берётся как производная от кусочно-заданной функции, то есть на участках, где функция гладкая, и в нуле её доопредляют нулём:\n",
        "\n",
        "\\begin{equation*}\n",
        "ReLU'(x) = \n",
        " \\begin{cases}\n",
        "   0, &\\text{$x \\le 0$}\\\\\n",
        "   1, &\\text{$x \\gt 0$}\n",
        " \\end{cases}\n",
        "\\end{equation*}\n",
        "\n",
        "Подставим ReLu в Loss:\n",
        "\n",
        "$$Loss(\\hat{y}, y) = \\frac{1}{2n}\\sum_{i=1}^{n} (\\hat{y_i} - y_i)^2 = \\frac{1}{2n}\\sum_{i=1}^{n} (ReLU(w \\cdot X_i) - y_i)^2 = \\begin{equation*}\n",
        "\\frac{1}{2n}\\sum_{i=1}^{n}\n",
        " \\begin{cases}\n",
        "    y_i^2, &{w \\cdot X_i \\le 0}\\\\\n",
        "   (w \\cdot X_i - y_i)^2, &{w \\cdot X_i \\gt 0}\n",
        " \\end{cases}\n",
        "\\end{equation*}$$  \n",
        "\n",
        "(помните, что $w \\cdot X_i$ -- это число в данном случае (результат скалярного произведения двух векторов)).\n",
        "\n",
        "Тогда формула для обновления весов при градиентном спуске будет такая (в матричном виде, рекмоендуем вывести самим то, как это получается из формулы для одного объекта):\n",
        "\n",
        "$$ \\frac{\\partial Loss}{\\partial w} = \\begin{equation*}\n",
        "\\frac{1}{n}\\sum_{i=1}^{n}\n",
        " \\begin{cases}\n",
        "   0, &{w \\cdot X_i \\le 0}\\\\\n",
        "   \\frac{1}{n} X_i^T (w \\cdot X_i - y), &{w \\cdot X_i \\gt 0}\n",
        " \\end{cases}\n",
        "\\end{equation*}$$\n",
        "\n",
        "(напоминаем, что здесь $w \\cdot X$ -- матричное произведение вектора $w$ (ведь вектор -- тоже матрица, не так ли?) и матрицы $X$ )\n",
        "\n",
        "Почему в первом случае будет 0? Потому что в формулу $y_i^2$ не входят веса , а мы берём производную именно по весам $w$.\n",
        "\n",
        "* Реализуйте ReLU и её производную:"
      ]
    },
    {
      "cell_type": "code",
      "metadata": {
        "id": "DCgAeho19igI"
      },
      "source": [
        "def relu(x):\n",
        "    \"\"\"ReLU-функция\"\"\"\n",
        "    return np.maximum(0, x)"
      ],
      "execution_count": 4,
      "outputs": []
    },
    {
      "cell_type": "code",
      "metadata": {
        "id": "nXwsy-7J9igL"
      },
      "source": [
        "def relu_derivative(x):\n",
        "    \"\"\"Производная ReLU\"\"\"\n",
        "    return np.where(x <= 0, 0, 1)"
      ],
      "execution_count": 5,
      "outputs": []
    },
    {
      "cell_type": "markdown",
      "metadata": {
        "id": "qKurn-7F9igN"
      },
      "source": [
        "Теперь нужно написать нейрон с ReLU. Здесь всё очень похоже на перцептрон, но будут по-другому обновляться веса и другая функция активации:"
      ]
    },
    {
      "cell_type": "code",
      "metadata": {
        "id": "AM9vn3OX9igO"
      },
      "source": [
        "class NeuronReLU:\n",
        "    def __init__(self, w=None, b=0):\n",
        "        \"\"\"\n",
        "        :param: w -- вектор весов\n",
        "        :param: b -- смещение\n",
        "        \"\"\"\n",
        "        self.w = w\n",
        "        self.b = b\n",
        "        \n",
        "        \n",
        "    def activate(self, x):\n",
        "        return relu(x)\n",
        "        \n",
        "        \n",
        "    def forward_pass(self, X):\n",
        "        \"\"\"\n",
        "        Рассчитывает ответ нейрона при предъявлении набора объектов\n",
        "        :param: X -- матрица примеров размера (n, m), каждая строка - отдельный объект\n",
        "        :return: вектор размера (n, 1) из нулей и единиц с ответами нейрона \n",
        "        \"\"\"\n",
        "        n = X.shape[0]\n",
        "        y_pred = np.zeros((n, 1))  \n",
        "        y_pred = self.activate(X @ self.w.reshape(X.shape[1], 1) + self.b)\n",
        "        return y_pred.reshape(-1, 1)\n",
        "    \n",
        "    \n",
        "    def backward_pass(self, X, y, y_pred, learning_rate=0.005):\n",
        "        \"\"\"\n",
        "        Обновляет значения весов нейрона в соответствии с этим объектом\n",
        "        :param: X -- матрица входов размера (n, m)\n",
        "                y -- вектор правильных ответов размера (n, 1)\n",
        "                learning_rate - \"скорость обучения\" (символ alpha в формулах выше)\n",
        "        В этом методе ничего возвращать не нужно, только правильно поменять веса\n",
        "        с помощью градиентного спуска.\n",
        "        \"\"\"\n",
        "        n = len(y)\n",
        "        y = np.array(y).reshape(-1, 1)\n",
        "        sigma = X @ self.w.reshape(X.shape[1], 1) + self.b\n",
        "        self.w -= learning_rate * X.T @ ((sigma - y) * relu_derivative(y_pred)) / n\n",
        "        self.b -= learning_rate * np.ones(n).T @ ((sigma - y) * relu_derivative(y_pred)) / n\n",
        "        \n",
        "    \n",
        "    def fit(self, X, y, num_epochs=300):\n",
        "        \"\"\"\n",
        "        Спускаемся в минимум\n",
        "        :param: X -- матрица объектов размера (n, m)\n",
        "                y -- вектор правильных ответов размера (n, 1)\n",
        "                num_epochs -- количество итераций обучения\n",
        "        :return: loss_values -- вектор значений функции потерь\n",
        "        \"\"\"\n",
        "        loss_values = []\n",
        "        \n",
        "        for i in range(num_epochs):\n",
        "          y_pred = self.forward_pass(X)\n",
        "          loss_values.append(loss(y_pred, y))\n",
        "          self.backward_pass(X, y, y_pred)\n",
        "        \n",
        "        return loss_values\n",
        "\n",
        "    def predict(self, X):\n",
        "        return np.array(neuron.forward_pass(X) > 0.5)"
      ],
      "execution_count": 6,
      "outputs": []
    },
    {
      "cell_type": "markdown",
      "metadata": {
        "id": "thtFp-at9igS"
      },
      "source": [
        "<h3 style=\"text-align: center;\"><b>Тестирование нейрона с ReLU</b></h3>  "
      ]
    },
    {
      "cell_type": "markdown",
      "metadata": {
        "id": "hOuYzf_u9igS"
      },
      "source": [
        "Здесь вам нужно самим протестировать новый нейрон **на тех же данных** (\"Яблоки и Груши\" и \"Голос\") по аналогии с тем, как это было проделано с перцептроном.\n",
        "В итоге нужно вывести: \n",
        "* график, на котором будет показано, как изменяется функция потерь $Loss$ в зависимости от числа итераций обучения\n",
        "* график с раскраской выборки нейроном"
      ]
    },
    {
      "cell_type": "markdown",
      "metadata": {
        "id": "chEeb88gHuny"
      },
      "source": [
        "***ПРИМЕЧАНИЕ***: пожалуйста, почаще проверяйте `.shape` у матриц и векторов: `self.w`, `X` и `y` внутри класса. Очень часто ошибка решается транспонированием или `.reshape()`'ом. Не забывайте проверять, что на что Вы умножаете и какой вектор (какой размер) хотите получить на выходе -- это очень помогает не запутаться."
      ]
    },
    {
      "cell_type": "markdown",
      "source": [
        "### Apples & Pears"
      ],
      "metadata": {
        "id": "2hUx703ZrOmb"
      }
    },
    {
      "cell_type": "markdown",
      "source": [
        "#### обучение собственного нейрона"
      ],
      "metadata": {
        "id": "OUjwuEWCwcHm"
      }
    },
    {
      "cell_type": "code",
      "source": [
        "df = pd.read_csv('https://raw.githubusercontent.com/evlko/CS-493/main/Data/apples_pears.csv')\n",
        "\n",
        "X = df[['yellowness', 'symmetry']]\n",
        "y = df['target'].values.reshape((-1, 1))\n",
        "\n",
        "X_train, X_test, y_train, y_test = train_test_split(X, y, test_size=0.3, random_state=42)\n",
        "\n",
        "X_train_tensor = torch.autograd.Variable(torch.FloatTensor(X_train.values))\n",
        "X_test_tensor = torch.autograd.Variable(torch.FloatTensor(X_test.values))\n",
        "y_train_tensor = torch.autograd.Variable(torch.FloatTensor(y_train))\n",
        "y_test_tensor = torch.autograd.Variable(torch.FloatTensor(y_test))"
      ],
      "metadata": {
        "id": "9tEVofGFn3yd"
      },
      "execution_count": 7,
      "outputs": []
    },
    {
      "cell_type": "code",
      "metadata": {
        "id": "FZDtNG6CHuop",
        "colab": {
          "base_uri": "https://localhost:8080/",
          "height": 551
        },
        "outputId": "b990b62e-cddc-4e4b-bfd6-0d752dd7dd23"
      },
      "source": [
        "%%time\n",
        "\n",
        "neuron = NeuronReLU(w=np.zeros((X_train.shape[1], 1)), b=0)\n",
        "Loss_values = neuron.fit(X_train.values, y_train)\n",
        "\n",
        "plt.figure(figsize=(10, 8))\n",
        "plt.plot(Loss_values)\n",
        "plt.title('Функция потерь', fontsize=15)\n",
        "plt.xlabel('номер итерации', fontsize=14)\n",
        "plt.ylabel('$Loss(\\hat{y}, y)$', fontsize=14)\n",
        "plt.show()"
      ],
      "execution_count": 8,
      "outputs": [
        {
          "output_type": "display_data",
          "data": {
            "text/plain": [
              "<Figure size 720x576 with 1 Axes>"
            ],
            "image/png": "[encoded data removed]"
          },
          "metadata": {
            "needs_background": "light"
          }
        },
        {
          "output_type": "stream",
          "name": "stdout",
          "text": [
            "CPU times: user 368 ms, sys: 19.2 ms, total: 387 ms\n",
            "Wall time: 388 ms\n"
          ]
        }
      ]
    },
    {
      "cell_type": "markdown",
      "metadata": {
        "id": "sPxo2YVeHuou"
      },
      "source": [
        "Скорее всего сейчас у вас лосс -- это прямая линия, и вы видите, что веса не обновляются. Но почему?"
      ]
    },
    {
      "cell_type": "markdown",
      "metadata": {
        "id": "mXUmEeUBHuov"
      },
      "source": [
        "Всё просто -- если присмотреться, то видно, что self.w и self.b иницилизируются нулями в начале `.fit()`-метода. Если расписать, как будет идти обновление, то видно, что из-за ReLU веса просто-напросто не будут обновляться, если начать с инициализации нулями. \n",
        "\n",
        "Это -- одна из причин, по которой в нейронных сетях веса инициализируют случаными числами (обычно из отрезка [0, 1)).\n",
        "\n",
        "Обучите нейрон, инициализировав случайно веса (поставьте 10000 итераций). \n",
        "\n",
        "Закомментируйте инициализацию нулями в функции `.fit()` класса `NeuronReLU` "
      ]
    },
    {
      "cell_type": "code",
      "metadata": {
        "id": "E821cUM0Huo8",
        "colab": {
          "base_uri": "https://localhost:8080/",
          "height": 551
        },
        "outputId": "1cbed530-8a63-4b93-b5a6-168d3a9e7b73"
      },
      "source": [
        "%%time\n",
        "\n",
        "neuron = NeuronReLU(w=np.random.rand(X_train.shape[1], 1), b=np.random.rand(1))\n",
        "Loss_values = neuron.fit(X_train.values, y_train, num_epochs=10000)\n",
        "\n",
        "plt.figure(figsize=(10, 8))\n",
        "plt.plot(Loss_values)\n",
        "plt.title('Loss Function', fontsize=15)\n",
        "plt.xlabel('iteration num', fontsize=14)\n",
        "plt.ylabel('$Loss(\\hat{y}, y)$', fontsize=14)\n",
        "plt.show()"
      ],
      "execution_count": 9,
      "outputs": [
        {
          "output_type": "display_data",
          "data": {
            "text/plain": [
              "<Figure size 720x576 with 1 Axes>"
            ],
            "image/png": "[encoded data removed]"
          },
          "metadata": {
            "needs_background": "light"
          }
        },
        {
          "output_type": "stream",
          "name": "stdout",
          "text": [
            "CPU times: user 1.63 s, sys: 19.9 ms, total: 1.65 s\n",
            "Wall time: 1.92 s\n"
          ]
        }
      ]
    },
    {
      "cell_type": "markdown",
      "metadata": {
        "id": "jkWMrc9uHupS"
      },
      "source": [
        "Посмотрим, как предсказывает этот нейрон:"
      ]
    },
    {
      "cell_type": "code",
      "metadata": {
        "id": "hyjfcthcHupT",
        "scrolled": false,
        "colab": {
          "base_uri": "https://localhost:8080/",
          "height": 518
        },
        "outputId": "7d093da3-caa6-42bc-adbb-74d8a7c03a5b"
      },
      "source": [
        "plt.figure(figsize=(10, 8))\n",
        "plt.scatter(X_train['yellowness'], X_train['symmetry'], c=np.array(neuron.forward_pass(X_train.values) > 0.5).ravel(), cmap='spring')\n",
        "plt.title('Apples & Pears', fontsize=15)\n",
        "plt.xlabel('symmetry', fontsize=14)\n",
        "plt.ylabel('yellowness', fontsize=14)\n",
        "plt.show()"
      ],
      "execution_count": 10,
      "outputs": [
        {
          "output_type": "display_data",
          "data": {
            "text/plain": [
              "<Figure size 720x576 with 1 Axes>"
            ],
            "image/png": "[encoded data removed]"
          },
          "metadata": {
            "needs_background": "light"
          }
        }
      ]
    },
    {
      "cell_type": "markdown",
      "source": [
        "#### обучение pytorch нейрона"
      ],
      "metadata": {
        "id": "9VHN70RxwgNC"
      }
    },
    {
      "cell_type": "code",
      "source": [
        "num_features = X_train.shape[1]\n",
        "\n",
        "torch_neuron = torch.nn.Sequential(\n",
        "    Linear(num_features, out_features=1),\n",
        "    ReLU()\n",
        ")"
      ],
      "metadata": {
        "id": "4T5Dp4BGwz5M"
      },
      "execution_count": 11,
      "outputs": []
    },
    {
      "cell_type": "code",
      "source": [
        "loss_fn = torch.nn.MSELoss(size_average=False)\n",
        "\n",
        "learning_rate = 0.001\n",
        "\n",
        "optimizer = torch.optim.NAdam(torch_neuron.parameters(), lr=learning_rate)\n",
        "\n",
        "for epoch in range(5000):\n",
        "    y_predictions = torch_neuron(X_train_tensor)\n",
        "    torch_loss = loss_fn(y_predictions, y_train_tensor)\n",
        "    optimizer.zero_grad()\n",
        "    torch_loss.backward()\n",
        "    optimizer.step()"
      ],
      "metadata": {
        "colab": {
          "base_uri": "https://localhost:8080/"
        },
        "id": "AwM3BmPvCi_b",
        "outputId": "9e1d157c-87a9-4229-a61c-0aebdfd96b82"
      },
      "execution_count": 12,
      "outputs": [
        {
          "output_type": "stream",
          "name": "stderr",
          "text": [
            "/usr/local/lib/python3.8/dist-packages/torch/nn/_reduction.py:42: UserWarning: size_average and reduce args will be deprecated, please use reduction='sum' instead.\n",
            "  warnings.warn(warning.format(ret))\n"
          ]
        }
      ]
    },
    {
      "cell_type": "markdown",
      "source": [
        "#### сравнение"
      ],
      "metadata": {
        "id": "xDOhkSf2wiPO"
      }
    },
    {
      "cell_type": "code",
      "source": [
        "print('Точность собстевенной реализации: {acc}%'.format(\n",
        "    acc = round(accuracy_score(y_test, neuron.predict(X_test.values)) * 100, 3)))\n",
        "print('Точность pytorch реализации: {acc}%'.format(\n",
        "    acc = round(accuracy_score(y_test_tensor, np.array(torch_neuron(X_test_tensor) > 0.5)) * 100, 3)))"
      ],
      "metadata": {
        "colab": {
          "base_uri": "https://localhost:8080/"
        },
        "id": "D4jNhexxwkLe",
        "outputId": "20b3c54c-9f08-48f2-d8d5-25eeaf23848f"
      },
      "execution_count": 13,
      "outputs": [
        {
          "output_type": "stream",
          "name": "stdout",
          "text": [
            "Точность собстевенной реализации: 93.0%\n",
            "Точность pytorch реализации: 95.0%\n"
          ]
        }
      ]
    },
    {
      "cell_type": "markdown",
      "source": [
        "### Voice"
      ],
      "metadata": {
        "id": "dQ8xVNhhrYjY"
      }
    },
    {
      "cell_type": "code",
      "source": [
        "df_voice = pd.read_csv('https://raw.githubusercontent.com/evlko/CS-493/main/Data/voice.csv')\n",
        "df_voice = df_voice.sample(frac=1)\n",
        "\n",
        "y_voice = df_voice['label'].apply(lambda x: 1 if x == 'male' else 0).values.reshape((-1, 1)) \n",
        "X_voice = df_voice.drop(columns=['label']).values\n",
        "\n",
        "X_train_voice, X_test_voice, y_train_voice, y_test_voice = train_test_split(X_voice, y_voice, test_size=0.3, random_state=42)\n",
        "\n",
        "scaler = StandardScaler()\n",
        "X_train_scaled = scaler.fit_transform(X_train_voice)\n",
        "X_test_scaled = scaler.transform(X_test_voice)\n",
        "\n",
        "X_train_tensor_voice = torch.autograd.Variable(torch.FloatTensor(X_train_scaled))\n",
        "X_test_tensor_voice = torch.autograd.Variable(torch.FloatTensor(X_test_scaled))\n",
        "y_train_tensor_voice = torch.autograd.Variable(torch.FloatTensor(y_train_voice))\n",
        "y_test_tensor_voice = torch.autograd.Variable(torch.FloatTensor(y_test_voice))"
      ],
      "metadata": {
        "id": "Re5Djh39rbT5"
      },
      "execution_count": 14,
      "outputs": []
    },
    {
      "cell_type": "markdown",
      "source": [
        "#### обучение собственного нейрона"
      ],
      "metadata": {
        "id": "Z2gIU9Cbw1sx"
      }
    },
    {
      "cell_type": "code",
      "source": [
        "neuron = NeuronReLU(w=np.random.rand(X_train_scaled.shape[1], 1), b=np.random.rand(1))\n",
        "Loss_values = neuron.fit(X_train_scaled, y_train_voice, num_epochs=10000)\n",
        "\n",
        "plt.figure(figsize=(10, 8))\n",
        "plt.plot(Loss_values)\n",
        "plt.title('Loss Function', fontsize=15)\n",
        "plt.xlabel('iteration num', fontsize=14)\n",
        "plt.ylabel('$Loss(\\hat{y}, y)$', fontsize=14)\n",
        "plt.show()"
      ],
      "metadata": {
        "colab": {
          "base_uri": "https://localhost:8080/",
          "height": 518
        },
        "id": "DTf88YrnsYyg",
        "outputId": "6c25222c-05e5-48de-f991-9677d05c46a4"
      },
      "execution_count": 15,
      "outputs": [
        {
          "output_type": "display_data",
          "data": {
            "text/plain": [
              "<Figure size 720x576 with 1 Axes>"
            ],
            "image/png": "[encoded data removed]"
          },
          "metadata": {
            "needs_background": "light"
          }
        }
      ]
    },
    {
      "cell_type": "markdown",
      "source": [
        "#### обучение pytorch нейрона"
      ],
      "metadata": {
        "id": "mrZZXvZ_w5Xc"
      }
    },
    {
      "cell_type": "code",
      "source": [
        "num_features = X_train_scaled.shape[1]\n",
        "\n",
        "torch_neuron = torch.nn.Sequential(\n",
        "    Linear(num_features, out_features=1),\n",
        "    ReLU()\n",
        ")"
      ],
      "metadata": {
        "id": "YgKtenOOw8Km"
      },
      "execution_count": 16,
      "outputs": []
    },
    {
      "cell_type": "code",
      "source": [
        "loss_fn = torch.nn.MSELoss(size_average=False)\n",
        "\n",
        "learning_rate = 0.001\n",
        "\n",
        "optimizer = torch.optim.NAdam(torch_neuron.parameters(), lr=learning_rate)\n",
        "\n",
        "for epoch in range(500):\n",
        "    y_predictions = torch_neuron(X_train_tensor_voice)\n",
        "    torch_loss = loss_fn(y_predictions, y_train_tensor_voice)\n",
        "    optimizer.zero_grad()\n",
        "    torch_loss.backward()\n",
        "    optimizer.step()"
      ],
      "metadata": {
        "colab": {
          "base_uri": "https://localhost:8080/"
        },
        "id": "IR-rENgqGaq2",
        "outputId": "b3c672d4-fa69-4572-80d7-e6ab9e389451"
      },
      "execution_count": 17,
      "outputs": [
        {
          "output_type": "stream",
          "name": "stderr",
          "text": [
            "/usr/local/lib/python3.8/dist-packages/torch/nn/_reduction.py:42: UserWarning: size_average and reduce args will be deprecated, please use reduction='sum' instead.\n",
            "  warnings.warn(warning.format(ret))\n"
          ]
        }
      ]
    },
    {
      "cell_type": "markdown",
      "source": [
        "#### сравнение"
      ],
      "metadata": {
        "id": "Kn6A0Gj0w9Er"
      }
    },
    {
      "cell_type": "code",
      "source": [
        "print('Точность собстевенной реализации: {acc}%'.format(\n",
        "    acc = round(accuracy_score(y_test_voice, neuron.predict(X_test_scaled)) * 100, 3)))\n",
        "print('Точность pytorch реализации: {acc}%'.format(\n",
        "    acc = round(accuracy_score(y_test_tensor_voice, np.array(torch_neuron(X_test_tensor_voice) > 0.5)) * 100, 3)))"
      ],
      "metadata": {
        "colab": {
          "base_uri": "https://localhost:8080/"
        },
        "id": "jGoj8SBgw-cb",
        "outputId": "4a56cd91-6275-447d-f3b3-b65a26d15cf5"
      },
      "execution_count": 18,
      "outputs": [
        {
          "output_type": "stream",
          "name": "stdout",
          "text": [
            "Точность собстевенной реализации: 97.056%\n",
            "Точность pytorch реализации: 96.635%\n"
          ]
        }
      ]
    },
    {
      "cell_type": "markdown",
      "metadata": {
        "id": "MSNZuWl9Hupd"
      },
      "source": [
        "Есть одна тенденция: пороговая функция активации и сигмоида (обычно всё же только сигмоида) чаще используются именно на **выходном слое** нейросети в задаче классификации -- ими предсказывают вероятности объектов принадлежать одному из классов, в то время как продвинутые функции активации (ReLU и те, что будут дальше) используются внутри нейросети, то есть в **скрытых слоях**."
      ]
    },
    {
      "cell_type": "markdown",
      "metadata": {
        "id": "_X3lDHElHupo"
      },
      "source": [
        "Нужно понимать, что ReLU не может вернуть отрицательные числа."
      ]
    },
    {
      "cell_type": "markdown",
      "metadata": {
        "id": "sET710OVHupp"
      },
      "source": [
        "**Плюсы ReLU:**"
      ]
    },
    {
      "cell_type": "markdown",
      "metadata": {
        "id": "HY3iXGBWHupr"
      },
      "source": [
        "* дифференцируемая (с доопределе\n",
        "нием в нуле)\n",
        "* нет проблемы затухающих градиентов, как в сигмоиде"
      ]
    },
    {
      "cell_type": "markdown",
      "metadata": {
        "id": "Nr_3XwTWHups"
      },
      "source": [
        "**Возможные минусы ReLU:**"
      ]
    },
    {
      "cell_type": "markdown",
      "metadata": {
        "id": "0TAwVdRXHupt"
      },
      "source": [
        "* не центрирована около 0 (может мешать скорости сходимсти)\n",
        "* зануляет все отрицательные входы, тем самым веса у занулённых нейронов могут часто *не обновляться*, эту проблему иногда называют *мёртвые нейроны*"
      ]
    },
    {
      "cell_type": "markdown",
      "metadata": {
        "id": "Vj1JGXTPHupu"
      },
      "source": [
        "С последней проблемой можно побороться, а именно:"
      ]
    },
    {
      "cell_type": "markdown",
      "source": [
        "## Нейрон с LeakyReLU"
      ],
      "metadata": {
        "id": "0J49AkxZFrWc"
      }
    },
    {
      "cell_type": "markdown",
      "metadata": {
        "id": "iCRBWooSHupx"
      },
      "source": [
        "LeakyReLU очень слабо отличается от ReLU, но часто помогает сети обучаться быстрее, поскольку нет проблемы \"мёртвых нейронов\":\n",
        "\n",
        "\\begin{equation*}\n",
        "LeakyReLU(x) =\n",
        " \\begin{cases}\n",
        "   \\alpha x, &\\text{$x \\le 0$}\\\\\n",
        "   x, &\\text{$x \\gt 0$}\n",
        " \\end{cases}\n",
        "\\end{equation*}\n",
        "\n",
        "где $\\alpha$ -- маленькое число от 0 до 1.\n",
        "\n",
        "Производная здесь берётся так же, но вместо нуля будет $\\alpha$:\n",
        "\n",
        "\\begin{equation*}\n",
        "LeakyReLU'(x) = \n",
        " \\begin{cases}\n",
        "   \\alpha, &\\text{$x \\le 0$}\\\\\n",
        "   1, &\\text{$x \\gt 0$}\n",
        " \\end{cases}\n",
        "\\end{equation*}\n",
        "\n",
        "График этой функции:\n",
        "\n",
        "<img src=\"https://cdn-images-1.medium.com/max/1600/0*UtLlZJ80TMIM7kXk.\" width=400 height=300>\n",
        "\n",
        "Подставим LeakyReLu в Loss:\n",
        "\n",
        "$$\n",
        "Loss(\\hat{y}, y) = \\frac{1}{2n}\\sum_{i=1}^{n} (\\hat{y_i} - y_i)^2 = \\frac{1}{2n}\\sum_{i=1}^{n} (LeakyReLU(w \\cdot X_i) - y_i)^2 =\n",
        "\\begin{equation*}\n",
        "\\frac{1}{2n}\\sum_{i=1}^{n} \n",
        " \\begin{cases}\n",
        "   (\\alpha \\cdot w \\cdot X_i - y_i)^2, &{w \\cdot X_i \\le 0}\\\\\n",
        "   (w \\cdot X_i - y_i)^2, &{w \\cdot X_i \\gt 0}\n",
        " \\end{cases}\n",
        "\\end{equation*}\n",
        "$$  \n",
        "\n",
        "Формула для обновления весов при градиентном спуске:\n",
        "\n",
        "$$ \\frac{\\partial Loss}{\\partial w} = \\begin{equation*}\n",
        "\\frac{1}{n}\\sum_{i=1}^{n} \n",
        " \\begin{cases}\n",
        "   \\alpha X_i^T (w \\cdot X_i - y), &{w \\cdot X_i \\le 0}\\\\\n",
        "    X_i^T (w \\cdot X_i - y), &{w \\cdot X_i \\gt 0}\n",
        " \\end{cases}\n",
        "\\end{equation*}$$\n",
        "\n",
        "* Реализуйте LeakyReLU и её производную:"
      ]
    },
    {
      "cell_type": "code",
      "metadata": {
        "id": "EvvL-J5Tg733"
      },
      "source": [
        "def leaky_relu(x, alpha=0.01):\n",
        "    \"\"\"LeakyReLU-функция\"\"\"\n",
        "    return np.maximum(alpha * x, x)"
      ],
      "execution_count": 19,
      "outputs": []
    },
    {
      "cell_type": "code",
      "metadata": {
        "id": "An5RxMX_g736"
      },
      "source": [
        "def leaky_relu_derivative(x, alpha=0.01):\n",
        "    \"\"\"Производная LeakyReLU\"\"\"\n",
        "    return np.where(x <= 0, alpha, 1)"
      ],
      "execution_count": 20,
      "outputs": []
    },
    {
      "cell_type": "markdown",
      "metadata": {
        "id": "4pVZT9RZg738"
      },
      "source": [
        "Теперь нужно написать нейрон с LeakyReLU функцией активации. Здесь всё очень похоже на перцептрон, но будут по-другому обновляться веса и другая функция активации:"
      ]
    },
    {
      "cell_type": "code",
      "metadata": {
        "id": "UM7qpfxPg739"
      },
      "source": [
        "class NeuronLeakyReLU:\n",
        "    def __init__(self, w=None, b=0):\n",
        "        \"\"\"\n",
        "        :param: w -- вектор весов\n",
        "        :param: b -- смещение\n",
        "        \"\"\"\n",
        "        self.w = w\n",
        "        self.b = b\n",
        "        \n",
        "        \n",
        "    def activate(self, x):\n",
        "        return leaky_relu(x)\n",
        "        \n",
        "        \n",
        "    def forward_pass(self, X):\n",
        "        \"\"\"\n",
        "        Рассчитывает ответ нейрона при предъявлении набора объектов\n",
        "        :param: X -- матрица примеров размера (n, m), каждая строка - отдельный объект\n",
        "        :return: вектор размера (n, 1) из нулей и единиц с ответами нейрона \n",
        "        \"\"\"\n",
        "        n = X.shape[0]\n",
        "        y_pred = np.zeros((n, 1))  \n",
        "        y_pred = self.activate(X @ self.w.reshape(X.shape[1], 1) + self.b)\n",
        "        return y_pred.reshape(-1, 1)\n",
        "        \n",
        "    \n",
        "    def backward_pass(self, X, y, y_pred, learning_rate=0.005):\n",
        "        \"\"\"\n",
        "        Обновляет значения весов нейрона в соответствии с этим объектом\n",
        "        :param: X -- матрица входов размера (n, m)\n",
        "                y -- вектор правильных ответов размера (n, 1)\n",
        "                learning_rate - \"скорость обучения\" (символ alpha в формулах выше)\n",
        "        В этом методе ничего возвращать не нужно, только правильно поменять веса\n",
        "        с помощью градиентного спуска.\n",
        "        \"\"\"\n",
        "        n = len(y)\n",
        "        y = np.array(y).reshape(-1, 1)\n",
        "        sigma = X @ self.w.reshape(X.shape[1], 1) + self.b\n",
        "        self.w -= learning_rate * X.T @ ((sigma - y) * leaky_relu_derivative(y_pred)) / n\n",
        "        self.b -= learning_rate * np.ones(n).T @ ((sigma - y) * leaky_relu_derivative(y_pred)) / n\n",
        "    \n",
        "    \n",
        "    def fit(self, X, y, num_epochs=300):\n",
        "        \"\"\"\n",
        "        Спускаемся в минимум\n",
        "        :param: X -- матрица объектов размера (n, m)\n",
        "                y -- вектор правильных ответов размера (n, 1)\n",
        "                num_epochs -- количество итераций обучения\n",
        "        :return: loss_values -- вектор значений функции потерь\n",
        "        \"\"\"\n",
        "        loss_values = [] \n",
        "        \n",
        "        for i in range(num_epochs):\n",
        "            y_pred = self.forward_pass(X)\n",
        "            loss_values.append(loss(y_pred, y))\n",
        "            self.backward_pass(X, y, y_pred)\n",
        "        \n",
        "        return loss_values\n",
        "    \n",
        "\n",
        "    def predict(self, X):\n",
        "        return np.array(neuron.forward_pass(X) > 0.5)"
      ],
      "execution_count": 21,
      "outputs": []
    },
    {
      "cell_type": "markdown",
      "metadata": {
        "id": "IgTac_vFHuq8"
      },
      "source": [
        "**Плюсы LeakyReLU:**"
      ]
    },
    {
      "cell_type": "markdown",
      "metadata": {
        "id": "iAw-tzuLHuq9"
      },
      "source": [
        "* дифференцируемая (с доопределнием в нуле)\n",
        "* нет проблемы затухающих градиентов, как в сигмоиде\n",
        "* нет проблемы \"мёртвых нейронов\", как в ReLU"
      ]
    },
    {
      "cell_type": "markdown",
      "metadata": {
        "id": "CMUGymwyHuq_"
      },
      "source": [
        "**Возможные минусы LeakyReLU:**"
      ]
    },
    {
      "cell_type": "markdown",
      "metadata": {
        "id": "uQyqD8-LHurA"
      },
      "source": [
        "* не центрирована около 0 (может мешать скорости сходимсти)\n",
        "* немного не устойчива к \"шуму\" (см. лекции Стэнфорда)"
      ]
    },
    {
      "cell_type": "markdown",
      "source": [
        "### Apple & Pears"
      ],
      "metadata": {
        "id": "KAQ7XQfuFKVc"
      }
    },
    {
      "cell_type": "markdown",
      "source": [
        "#### обучение собственного нейрона"
      ],
      "metadata": {
        "id": "zhhdTTmiFLlZ"
      }
    },
    {
      "cell_type": "code",
      "source": [
        "%%time\n",
        "\n",
        "neuron = NeuronLeakyReLU(w=np.random.rand(X_train.shape[1], 1), b=np.random.rand(1))\n",
        "Loss_values = neuron.fit(X_train.values, y_train, num_epochs=10000)\n",
        "\n",
        "plt.figure(figsize=(10, 8))\n",
        "plt.plot(Loss_values)\n",
        "plt.title('Loss Function', fontsize=15)\n",
        "plt.xlabel('iteration num', fontsize=14)\n",
        "plt.ylabel('$Loss(\\hat{y}, y)$', fontsize=14)\n",
        "plt.show()"
      ],
      "metadata": {
        "colab": {
          "base_uri": "https://localhost:8080/",
          "height": 551
        },
        "id": "TegOTYM0U1Et",
        "outputId": "a31531a1-21c6-4d31-cb35-72ba220b8d04"
      },
      "execution_count": 22,
      "outputs": [
        {
          "output_type": "display_data",
          "data": {
            "text/plain": [
              "<Figure size 720x576 with 1 Axes>"
            ],
            "image/png": "[encoded data removed]"
          },
          "metadata": {
            "needs_background": "light"
          }
        },
        {
          "output_type": "stream",
          "name": "stdout",
          "text": [
            "CPU times: user 1.66 s, sys: 0 ns, total: 1.66 s\n",
            "Wall time: 2.16 s\n"
          ]
        }
      ]
    },
    {
      "cell_type": "markdown",
      "source": [
        "#### обучение pytorch нейрона"
      ],
      "metadata": {
        "id": "NAMcwMelFbYU"
      }
    },
    {
      "cell_type": "code",
      "source": [
        "num_features = X_train_tensor.shape[1]\n",
        "\n",
        "torch_neuron = torch.nn.Sequential(\n",
        "    Linear(num_features, out_features=1),\n",
        "    LeakyReLU(0.01)\n",
        ")"
      ],
      "metadata": {
        "id": "av1TzvT-F01x"
      },
      "execution_count": 23,
      "outputs": []
    },
    {
      "cell_type": "code",
      "source": [
        "loss_fn = torch.nn.MSELoss(size_average=False)\n",
        "\n",
        "learning_rate = 0.005\n",
        "\n",
        "optimizer = torch.optim.NAdam(torch_neuron.parameters(), lr=learning_rate)\n",
        "\n",
        "for epoch in range(500):\n",
        "    y_predictions = torch_neuron(X_train_tensor)\n",
        "    torch_loss = loss_fn(y_predictions, y_train_tensor)\n",
        "    optimizer.zero_grad()\n",
        "    torch_loss.backward()\n",
        "    optimizer.step()"
      ],
      "metadata": {
        "colab": {
          "base_uri": "https://localhost:8080/"
        },
        "id": "AhJN-arVV1pD",
        "outputId": "ddca3263-8d33-434a-e136-ae1afe60baa2"
      },
      "execution_count": 24,
      "outputs": [
        {
          "output_type": "stream",
          "name": "stderr",
          "text": [
            "/usr/local/lib/python3.8/dist-packages/torch/nn/_reduction.py:42: UserWarning: size_average and reduce args will be deprecated, please use reduction='sum' instead.\n",
            "  warnings.warn(warning.format(ret))\n"
          ]
        }
      ]
    },
    {
      "cell_type": "markdown",
      "source": [
        "#### сравнение"
      ],
      "metadata": {
        "id": "VVsFnYhYFe4y"
      }
    },
    {
      "cell_type": "code",
      "source": [
        "print('Точность собстевенной реализации: {acc}%'.format(\n",
        "    acc = round(accuracy_score(y_test, neuron.predict(X_test.values)) * 100, 3)))\n",
        "print('Точность pytorch реализации: {acc}%'.format(\n",
        "    acc = round(accuracy_score(y_test_tensor, np.array(torch_neuron(X_test_tensor) > 0.5)) * 100, 3)))"
      ],
      "metadata": {
        "colab": {
          "base_uri": "https://localhost:8080/"
        },
        "id": "VFfWdGv8WkTc",
        "outputId": "56460ece-b796-49de-8ce7-c4e94a74f7cc"
      },
      "execution_count": 25,
      "outputs": [
        {
          "output_type": "stream",
          "name": "stdout",
          "text": [
            "Точность собстевенной реализации: 93.333%\n",
            "Точность pytorch реализации: 93.0%\n"
          ]
        }
      ]
    },
    {
      "cell_type": "markdown",
      "source": [
        "### Voice"
      ],
      "metadata": {
        "id": "mY_O2PrkF1eZ"
      }
    },
    {
      "cell_type": "markdown",
      "source": [
        "#### обучение собственного нейрона"
      ],
      "metadata": {
        "id": "jfOqmsgAF4YC"
      }
    },
    {
      "cell_type": "code",
      "source": [
        "neuron = NeuronLeakyReLU(w=np.random.rand(X_train_scaled.shape[1], 1), b=np.random.rand(1))\n",
        "Loss_values = neuron.fit(X_train_scaled, y_train_voice, num_epochs=10000)\n",
        "\n",
        "plt.figure(figsize=(10, 8))\n",
        "plt.plot(Loss_values)\n",
        "plt.title('Loss Function', fontsize=15)\n",
        "plt.xlabel('iteration num', fontsize=14)\n",
        "plt.ylabel('$Loss(\\hat{y}, y)$', fontsize=14)\n",
        "plt.show()"
      ],
      "metadata": {
        "colab": {
          "base_uri": "https://localhost:8080/",
          "height": 518
        },
        "id": "1sDJHKvwF7CT",
        "outputId": "87ad21e6-094a-4da9-8e24-fde8c893a322"
      },
      "execution_count": 26,
      "outputs": [
        {
          "output_type": "display_data",
          "data": {
            "text/plain": [
              "<Figure size 720x576 with 1 Axes>"
            ],
            "image/png": "[encoded data removed]"
          },
          "metadata": {
            "needs_background": "light"
          }
        }
      ]
    },
    {
      "cell_type": "markdown",
      "source": [
        "#### обучение pytorch нейрона"
      ],
      "metadata": {
        "id": "Xzy_aM45F7ui"
      }
    },
    {
      "cell_type": "code",
      "source": [
        "num_features = X_train_tensor_voice.shape[1]\n",
        "\n",
        "torch_neuron = torch.nn.Sequential(\n",
        "    Linear(num_features, out_features=1),\n",
        "    LeakyReLU(0.01)\n",
        ")"
      ],
      "metadata": {
        "id": "5dBFSzZfBybH"
      },
      "execution_count": 27,
      "outputs": []
    },
    {
      "cell_type": "code",
      "source": [
        "loss_fn = torch.nn.MSELoss(size_average=False)\n",
        "\n",
        "learning_rate = 0.001\n",
        "\n",
        "optimizer = torch.optim.NAdam(torch_neuron.parameters(), lr=learning_rate)\n",
        "\n",
        "for epoch in range(500):\n",
        "    y_predictions = torch_neuron(X_train_tensor_voice)\n",
        "    torch_loss = loss_fn(y_predictions, y_train_tensor_voice)\n",
        "    optimizer.zero_grad()\n",
        "    torch_loss.backward()\n",
        "    optimizer.step()"
      ],
      "metadata": {
        "colab": {
          "base_uri": "https://localhost:8080/"
        },
        "id": "nZLcWxxnF-PA",
        "outputId": "fb703fe7-f59a-48dc-ceec-191ebf34de80"
      },
      "execution_count": 28,
      "outputs": [
        {
          "output_type": "stream",
          "name": "stderr",
          "text": [
            "/usr/local/lib/python3.8/dist-packages/torch/nn/_reduction.py:42: UserWarning: size_average and reduce args will be deprecated, please use reduction='sum' instead.\n",
            "  warnings.warn(warning.format(ret))\n"
          ]
        }
      ]
    },
    {
      "cell_type": "markdown",
      "source": [
        "#### сравнение"
      ],
      "metadata": {
        "id": "bB1cDRtnF-sb"
      }
    },
    {
      "cell_type": "code",
      "source": [
        "print('Точность собстевенной реализации: {acc}%'.format(\n",
        "    acc = round(accuracy_score(y_test_voice, neuron.predict(X_test_scaled)) * 100, 3)))\n",
        "print('Точность pytorch реализации: {acc}%'.format(\n",
        "    acc = round(accuracy_score(y_test_tensor_voice, np.array(torch_neuron(X_test_tensor_voice) > 0.5)) * 100, 3)))"
      ],
      "metadata": {
        "colab": {
          "base_uri": "https://localhost:8080/"
        },
        "id": "WCXcfiESB8mN",
        "outputId": "fffaeb0f-9b8f-427b-c1da-456502a28145"
      },
      "execution_count": 29,
      "outputs": [
        {
          "output_type": "stream",
          "name": "stdout",
          "text": [
            "Точность собстевенной реализации: 96.951%\n",
            "Точность pytorch реализации: 96.53%\n"
          ]
        }
      ]
    },
    {
      "cell_type": "markdown",
      "source": [
        "## Нейрон с ELU"
      ],
      "metadata": {
        "id": "-GRSoiPHGFyo"
      }
    },
    {
      "cell_type": "markdown",
      "metadata": {
        "id": "dWH3Zk2zHurB"
      },
      "source": [
        "ELU -- не так давно предложенная (в 2015 году) функция активации, которая, как говорят авторы статьи, лучше LeakyReLU. Вот формула ELU:\n",
        "\n",
        "\\begin{equation*}\n",
        "ELU(\\alpha, x) =\n",
        " \\begin{cases}\n",
        "   \\alpha (e^x - 1), &\\text{$x \\le 0$}\\\\\n",
        "   x, &\\text{$x \\gt 0$}\n",
        " \\end{cases}\n",
        "\\end{equation*}\n",
        "\n",
        "где $\\alpha$ -- маленькое число от 0 до 1.\n",
        "\n",
        "Производная здесь берётся так же, но вместо нуля будет $\\alpha$:\n",
        "\n",
        "\\begin{equation*}\n",
        "ELU'(x) = \n",
        " \\begin{cases}\n",
        "   ELU(\\alpha, x) + \\alpha, &\\text{$x \\le 0$}\\\\\n",
        "   1, &\\text{$x \\gt 0$}\n",
        " \\end{cases}\n",
        "\\end{equation*}\n",
        "\n",
        "Здесь в производной использован постой трюк -- сделано $- \\alpha + \\alpha$, чтобы вычислять было проще.\n",
        "\n",
        "График этой функции:\n",
        "\n",
        "<img src=\"http://p0.ifengimg.com/pmop/2017/0907/A004001DD141881BFD8AD62E5D31028C3BE3FAD1_size14_w446_h354.png\" width=500 height=400>\n",
        "\n",
        "Подставим ELU в Loss:\n",
        "\n",
        "$$Loss(\\hat{y}, y) = \\frac{1}{2n}\\sum_{i=1}^{n} (\\hat{y_i} - y_i)^2 = \\frac{1}{2n}\\sum_{i=1}^{n} (ELU(\\alpha, w \\cdot X_i) - y_i)^2 = \\begin{equation*}\n",
        "\\frac{1}{2n}\\sum_{i=1}^{n} \n",
        " \\begin{cases}\n",
        "   (\\alpha (e^{w \\cdot X_i} - 1) - y_i)^2, &{w \\cdot X_i \\le 0}\\\\\n",
        "   (w \\cdot X_i - y_i)^2, &{w \\cdot X_i \\gt 0}\n",
        " \\end{cases}\n",
        "\\end{equation*}$$  \n",
        "\n",
        "Здесь вам нужно выписать самим град спуск для весов. Брать производную \"в лоб\" некрасиво и неудобно. Нужно воспользоваться **правилом цепочки**, оно же **правило взятия производной сложной функции**:\n",
        "\n",
        "$$ \\frac{\\partial Loss}{\\partial w} = \\begin{equation*}\n",
        "\\frac{1}{n}\\sum_{i=1}^{n} \n",
        " \\begin{cases}\n",
        "   {X^T_i \\cdot (ELU(\\alpha, x) + \\alpha) \\cdot (\\alpha (e^{w \\cdot X_i} - 1)-y_i)}, &{w \\cdot X_i \\le 0}\\\\\n",
        "   {X^T_i(w \\cdot X_i - y_i)}, &{w \\cdot X_i \\gt 0}\n",
        " \\end{cases}\n",
        "\\end{equation*}$$\n",
        "\n",
        "* Реализуйте ELU и её производную:"
      ]
    },
    {
      "cell_type": "code",
      "metadata": {
        "id": "Mc6fsB5HzR2Q"
      },
      "source": [
        "def elu(x, alpha=0.01):\n",
        "    \"\"\"ELU-функция\"\"\"\n",
        "    return np.maximum(alpha * (np.exp(x) - 1), x)"
      ],
      "execution_count": 30,
      "outputs": []
    },
    {
      "cell_type": "code",
      "metadata": {
        "id": "lMSIjprszR2T"
      },
      "source": [
        "def elu_derivative(x, alpha=0.01):\n",
        "    \"\"\"Производная ELU\"\"\"\n",
        "    return np.maximum(elu(alpha, x) + alpha, 1)"
      ],
      "execution_count": 31,
      "outputs": []
    },
    {
      "cell_type": "markdown",
      "metadata": {
        "id": "P5p1eDNGzR2V"
      },
      "source": [
        "Теперь нужно написать нейрон с ELU функцией активации. Здесь всё очень похоже на перцептрон, но будут по-другому обновляться веса и другая функция активации:"
      ]
    },
    {
      "cell_type": "code",
      "metadata": {
        "id": "3cxpveqozR2X"
      },
      "source": [
        "class NeuronELU:\n",
        "    def __init__(self, w=None, b=0):\n",
        "        \"\"\"\n",
        "        :param: w -- вектор весов\n",
        "        :param: b -- смещение\n",
        "        \"\"\"\n",
        "        self.w = w\n",
        "        self.b = b\n",
        "        \n",
        "        \n",
        "    def activate(self, x):\n",
        "        return elu(x)\n",
        "        \n",
        "        \n",
        "    def forward_pass(self, X):\n",
        "        \"\"\"\n",
        "        Рассчитывает ответ нейрона при предъявлении набора объектов\n",
        "        :param: X -- матрица примеров размера (n, m), каждая строка - отдельный объект\n",
        "        :return: вектор размера (n, 1) из нулей и единиц с ответами нейрона \n",
        "        \"\"\"\n",
        "        n = X.shape[0]\n",
        "        y_pred = np.zeros((n, 1))  \n",
        "        y_pred = self.activate(X @ self.w.reshape(X.shape[1], 1) + self.b)\n",
        "        return y_pred.reshape(-1, 1)\n",
        "        \n",
        "    \n",
        "    def backward_pass(self, X, y, y_pred, learning_rate=0.005):\n",
        "        \"\"\"\n",
        "        Обновляет значения весов нейрона в соответствии с этим объектом\n",
        "        :param: X -- матрица входов размера (n, m)\n",
        "                y -- вектор правильных ответов размера (n, 1)\n",
        "                learning_rate - \"скорость обучения\" (символ alpha в формулах выше)\n",
        "        В этом методе ничего возвращать не нужно, только правильно поменять веса\n",
        "        с помощью градиентного спуска.\n",
        "        \"\"\"\n",
        "        n = len(y)\n",
        "        y = np.array(y).reshape(-1, 1)\n",
        "        sigma = X @ self.w.reshape(X.shape[1], 1) + self.b\n",
        "        self.w -= learning_rate * X.T @ ((sigma - y) * elu_derivative(y_pred)) / n\n",
        "        self.b -= learning_rate * np.ones(n).T @ ((sigma - y) * elu_derivative(y_pred)) / n\n",
        "    \n",
        "    \n",
        "    def fit(self, X, y, num_epochs=300):\n",
        "        \"\"\"\n",
        "        Спускаемся в минимум\n",
        "        :param: X -- матрица объектов размера (n, m)\n",
        "                y -- вектор правильных ответов размера (n, 1)\n",
        "                num_epochs -- количество итераций обучения\n",
        "        :return: loss_values -- вектор значений функции потерь\n",
        "        \"\"\"\n",
        "        loss_values = [] \n",
        "        \n",
        "        for i in range(num_epochs):\n",
        "            y_pred = self.forward_pass(X)\n",
        "            loss_values.append(loss(y_pred, y))\n",
        "            self.backward_pass(X, y, y_pred)\n",
        "        \n",
        "        return loss_values\n",
        "    \n",
        "\n",
        "    def predict(self, X):\n",
        "        return np.array(neuron.forward_pass(X) > 0.5)"
      ],
      "execution_count": 32,
      "outputs": []
    },
    {
      "cell_type": "markdown",
      "source": [
        "### Apples & Pears"
      ],
      "metadata": {
        "id": "N7xF7DldyXKC"
      }
    },
    {
      "cell_type": "markdown",
      "source": [
        "#### обучение союственного нейрона"
      ],
      "metadata": {
        "id": "ZjM3ofPEyZBC"
      }
    },
    {
      "cell_type": "code",
      "source": [
        "%%time\n",
        "\n",
        "neuron = NeuronELU(w=np.random.rand(X_train.shape[1], 1), b=np.random.rand(1))\n",
        "Loss_values = neuron.fit(X_train.values, y_train, num_epochs=10000)\n",
        "\n",
        "plt.figure(figsize=(10, 8))\n",
        "plt.plot(Loss_values)\n",
        "plt.title('Loss Function', fontsize=15)\n",
        "plt.xlabel('iteration num', fontsize=14)\n",
        "plt.ylabel('$Loss(\\hat{y}, y)$', fontsize=14)\n",
        "plt.show()"
      ],
      "metadata": {
        "colab": {
          "base_uri": "https://localhost:8080/",
          "height": 551
        },
        "id": "l7SXaZwqxxs5",
        "outputId": "e40ae419-2fdb-414c-a030-3a9161b6d5e0"
      },
      "execution_count": 33,
      "outputs": [
        {
          "output_type": "display_data",
          "data": {
            "text/plain": [
              "<Figure size 720x576 with 1 Axes>"
            ],
            "image/png": "[encoded data removed]"
          },
          "metadata": {
            "needs_background": "light"
          }
        },
        {
          "output_type": "stream",
          "name": "stdout",
          "text": [
            "CPU times: user 1.46 s, sys: 5.88 ms, total: 1.46 s\n",
            "Wall time: 1.46 s\n"
          ]
        }
      ]
    },
    {
      "cell_type": "markdown",
      "source": [
        "#### обучение pytorch нейрона"
      ],
      "metadata": {
        "id": "tIGy-soIzScS"
      }
    },
    {
      "cell_type": "code",
      "source": [
        "num_features = X_train_tensor.shape[1]\n",
        "\n",
        "torch_neuron = torch.nn.Sequential(\n",
        "    Linear(num_features, out_features=1),\n",
        "    ELU(0.01)\n",
        ")"
      ],
      "metadata": {
        "id": "vGQ5jq0HzRWy"
      },
      "execution_count": 34,
      "outputs": []
    },
    {
      "cell_type": "code",
      "source": [
        "loss_fn = torch.nn.MSELoss(size_average=False)\n",
        "\n",
        "learning_rate = 0.005\n",
        "\n",
        "optimizer = torch.optim.NAdam(torch_neuron.parameters(), lr=learning_rate)\n",
        "\n",
        "for epoch in range(500):\n",
        "    y_predictions = torch_neuron(X_train_tensor)\n",
        "    torch_loss = loss_fn(y_predictions, y_train_tensor)\n",
        "    optimizer.zero_grad()\n",
        "    torch_loss.backward()\n",
        "    optimizer.step()"
      ],
      "metadata": {
        "colab": {
          "base_uri": "https://localhost:8080/"
        },
        "id": "B2M5mqgdz1H4",
        "outputId": "6dda06ef-342e-4d56-9611-2e6a44412c3a"
      },
      "execution_count": 35,
      "outputs": [
        {
          "output_type": "stream",
          "name": "stderr",
          "text": [
            "/usr/local/lib/python3.8/dist-packages/torch/nn/_reduction.py:42: UserWarning: size_average and reduce args will be deprecated, please use reduction='sum' instead.\n",
            "  warnings.warn(warning.format(ret))\n"
          ]
        }
      ]
    },
    {
      "cell_type": "markdown",
      "source": [
        "#### сравнение"
      ],
      "metadata": {
        "id": "IDXTXQpFz5zm"
      }
    },
    {
      "cell_type": "code",
      "source": [
        "print('Точность собстевенной реализации: {acc}%'.format(\n",
        "    acc = round(accuracy_score(y_test, neuron.predict(X_test.values)) * 100, 3)))\n",
        "print('Точность pytorch реализации: {acc}%'.format(\n",
        "    acc = round(accuracy_score(y_test_tensor, np.array(torch_neuron(X_test_tensor) > 0.5)) * 100, 3)))"
      ],
      "metadata": {
        "colab": {
          "base_uri": "https://localhost:8080/"
        },
        "id": "HLfe9jx7z-ph",
        "outputId": "ed0113ba-2f4e-429f-cbb6-bb4cf341a6a5"
      },
      "execution_count": 36,
      "outputs": [
        {
          "output_type": "stream",
          "name": "stdout",
          "text": [
            "Точность собстевенной реализации: 92.0%\n",
            "Точность pytorch реализации: 91.333%\n"
          ]
        }
      ]
    },
    {
      "cell_type": "markdown",
      "source": [
        "### Voice"
      ],
      "metadata": {
        "id": "NGPNavej0WcL"
      }
    },
    {
      "cell_type": "markdown",
      "source": [
        "#### обучение собственного нейрона"
      ],
      "metadata": {
        "id": "gVl182JE0c45"
      }
    },
    {
      "cell_type": "code",
      "source": [
        "neuron = NeuronELU(w=np.random.rand(X_train_scaled.shape[1], 1), b=np.random.rand(1))\n",
        "Loss_values = neuron.fit(X_train_scaled, y_train_voice, num_epochs=10000)\n",
        "\n",
        "plt.figure(figsize=(10, 8))\n",
        "plt.plot(Loss_values)\n",
        "plt.title('Loss Function', fontsize=15)\n",
        "plt.xlabel('iteration num', fontsize=14)\n",
        "plt.ylabel('$Loss(\\hat{y}, y)$', fontsize=14)\n",
        "plt.show()"
      ],
      "metadata": {
        "colab": {
          "base_uri": "https://localhost:8080/",
          "height": 518
        },
        "id": "nkZiqSQS0cX2",
        "outputId": "f4dab4eb-6b2f-4a68-b83d-e75bd1a6c119"
      },
      "execution_count": 43,
      "outputs": [
        {
          "output_type": "display_data",
          "data": {
            "text/plain": [
              "<Figure size 720x576 with 1 Axes>"
            ],
            "image/png": "[encoded data removed]"
          },
          "metadata": {
            "needs_background": "light"
          }
        }
      ]
    },
    {
      "cell_type": "markdown",
      "source": [
        "#### обучение pytorch нейрона"
      ],
      "metadata": {
        "id": "nUdElLP00gUf"
      }
    },
    {
      "cell_type": "code",
      "source": [
        "num_features = X_train_tensor_voice.shape[1]\n",
        "\n",
        "torch_neuron = torch.nn.Sequential(\n",
        "    Linear(num_features, out_features=1),\n",
        "    ELU(0.01)\n",
        ")"
      ],
      "metadata": {
        "id": "7HeqzefZ0i1H"
      },
      "execution_count": 38,
      "outputs": []
    },
    {
      "cell_type": "code",
      "source": [
        "loss_fn = torch.nn.MSELoss(size_average=False)\n",
        "\n",
        "learning_rate = 0.001\n",
        "\n",
        "optimizer = torch.optim.NAdam(torch_neuron.parameters(), lr=learning_rate)\n",
        "\n",
        "for epoch in range(500):\n",
        "    y_predictions = torch_neuron(X_train_tensor_voice)\n",
        "    torch_loss = loss_fn(y_predictions, y_train_tensor_voice)\n",
        "    optimizer.zero_grad()\n",
        "    torch_loss.backward()\n",
        "    optimizer.step()"
      ],
      "metadata": {
        "colab": {
          "base_uri": "https://localhost:8080/"
        },
        "id": "_fmKkMYyDb8A",
        "outputId": "afdb5ddd-9df6-4f1b-e346-e105c2536914"
      },
      "execution_count": 39,
      "outputs": [
        {
          "output_type": "stream",
          "name": "stderr",
          "text": [
            "/usr/local/lib/python3.8/dist-packages/torch/nn/_reduction.py:42: UserWarning: size_average and reduce args will be deprecated, please use reduction='sum' instead.\n",
            "  warnings.warn(warning.format(ret))\n"
          ]
        }
      ]
    },
    {
      "cell_type": "markdown",
      "source": [
        "#### сравнение"
      ],
      "metadata": {
        "id": "Ke9qN97U0jBo"
      }
    },
    {
      "cell_type": "code",
      "source": [
        "print('Точность собстевенной реализации: {acc}%'.format(\n",
        "    acc = round(accuracy_score(y_test_voice, neuron.predict(X_test_scaled)) * 100, 3)))\n",
        "print('Точность pytorch реализации: {acc}%'.format(\n",
        "    acc = round(accuracy_score(y_test_tensor_voice, np.array(torch_neuron(X_test_tensor_voice) > 0.5)) * 100, 3)))"
      ],
      "metadata": {
        "colab": {
          "base_uri": "https://localhost:8080/"
        },
        "id": "AZXhZ7mg0lEM",
        "outputId": "a05eb495-0063-4bfd-add6-01a0d6227f8c"
      },
      "execution_count": 44,
      "outputs": [
        {
          "output_type": "stream",
          "name": "stdout",
          "text": [
            "Точность собстевенной реализации: 97.056%\n",
            "Точность pytorch реализации: 95.794%\n"
          ]
        }
      ]
    },
    {
      "cell_type": "markdown",
      "metadata": {
        "id": "MYiGj1wnHur4"
      },
      "source": [
        "**Плюсы ELU:**"
      ]
    },
    {
      "cell_type": "markdown",
      "metadata": {
        "id": "xOGAh06uHur5"
      },
      "source": [
        "* дифференцируемая (с доопределнием в нуле)\n",
        "* нет проблемы затухающих градиентов, как в сигмоиде\n",
        "* нет проблемы \"мёртвых нейронов\", как в ReLU\n",
        "* более устойчива к \"шуму\" (см. лекции Стэнфорда)"
      ]
    },
    {
      "cell_type": "markdown",
      "metadata": {
        "id": "r4doD89fHur6"
      },
      "source": [
        "**Возможные минусы ELU:**"
      ]
    },
    {
      "cell_type": "markdown",
      "metadata": {
        "id": "AO4bvkKGHur6"
      },
      "source": [
        "* не очень хорошо центрирована около 0 (может мешать скорости сходимсти)\n",
        "* вычислительно дольше, чем ReLU и LeakyReLU"
      ]
    }
  ]
}