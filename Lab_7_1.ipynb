{
  "nbformat": 4,
  "nbformat_minor": 0,
  "metadata": {
    "colab": {
      "provenance": []
    },
    "kernelspec": {
      "display_name": "Python 3",
      "language": "python",
      "name": "python3"
    },
    "language_info": {
      "codemirror_mode": {
        "name": "ipython",
        "version": 3
      },
      "file_extension": ".py",
      "mimetype": "text/x-python",
      "name": "python",
      "nbconvert_exporter": "python",
      "pygments_lexer": "ipython3",
      "version": "3.6.5"
    },
    "accelerator": "GPU",
    "gpuClass": "standard"
  },
  "cells": [
    {
      "cell_type": "markdown",
      "metadata": {
        "id": "vcnGdgw_YJ8u"
      },
      "source": [
        "# PyTorch. Основы: синтаксис, torch.cuda и torch.autograd\n",
        "\n",
        "## Задание 7.1"
      ]
    },
    {
      "cell_type": "code",
      "metadata": {
        "id": "RtyozNmmYJ89"
      },
      "source": [
        "import torch\n",
        "import matplotlib.pyplot as plt\n",
        "\n",
        "import warnings\n",
        "warnings.filterwarnings('ignore')"
      ],
      "execution_count": 1,
      "outputs": []
    },
    {
      "cell_type": "markdown",
      "metadata": {
        "id": "ny4-Qi2wYJ-6"
      },
      "source": [
        "### Задача 1"
      ]
    },
    {
      "cell_type": "markdown",
      "metadata": {
        "id": "IWxlFq0bYJ-_"
      },
      "source": [
        "1). Создайте два вещественных тензора: `a` размером (3, 4) и `b` размером (12,)   \n",
        "2). Создайте тензор `c`, являющийся тензором `b`, но размера (2, 2, 3)  \n",
        "3). Выведите первый столбец матрицы `a` с помощью индексации"
      ]
    },
    {
      "cell_type": "code",
      "metadata": {
        "id": "3oxZuk3yYJ_A"
      },
      "source": [
        "a = torch.FloatTensor(3, 4)\n",
        "b = torch.FloatTensor(12, )\n",
        "c = b.view(2, 2, 3)"
      ],
      "execution_count": 2,
      "outputs": []
    },
    {
      "cell_type": "code",
      "source": [
        "a[:, 0]"
      ],
      "metadata": {
        "colab": {
          "base_uri": "https://localhost:8080/"
        },
        "id": "H5Xs0J5XekWh",
        "outputId": "f496e591-8fd9-4fb1-e504-025c4ebf247d"
      },
      "execution_count": 3,
      "outputs": [
        {
          "output_type": "execute_result",
          "data": {
            "text/plain": [
              "tensor([2.8092e-34,        nan, 4.3066e+21])"
            ]
          },
          "metadata": {},
          "execution_count": 3
        }
      ]
    },
    {
      "cell_type": "markdown",
      "metadata": {
        "id": "D2IP_FrKYKAA"
      },
      "source": [
        "### Задача 2"
      ]
    },
    {
      "cell_type": "markdown",
      "metadata": {
        "id": "tBZFbSYQYKAA"
      },
      "source": [
        "1). Создайте два вещественных тензора: `a` размером (5, 2) и `b` размером (1,10)   \n",
        "2). Создайте тензор `c`, являющийся тензором `b`, но размера (5, 2)  \n",
        "3). Произведите все арифметические операции с тензорами `a` и `c`"
      ]
    },
    {
      "cell_type": "code",
      "metadata": {
        "id": "hzs2bH3GYKAB"
      },
      "source": [
        "a = torch.FloatTensor(5, 2)\n",
        "b = torch.FloatTensor(1, 10)\n",
        "c = b.view(5, 2)"
      ],
      "execution_count": 4,
      "outputs": []
    },
    {
      "cell_type": "code",
      "source": [
        "# для проверки функций лучше заполнить тензоры чем-то более менее вменяемым, например, нулями и единицами\n",
        "a.zero_()\n",
        "c.fill_(1)"
      ],
      "metadata": {
        "colab": {
          "base_uri": "https://localhost:8080/"
        },
        "id": "s_V3g6jubk3i",
        "outputId": "ba73b72b-117b-4f51-bd9c-2896cfa99b99"
      },
      "execution_count": 5,
      "outputs": [
        {
          "output_type": "execute_result",
          "data": {
            "text/plain": [
              "tensor([[1., 1.],\n",
              "        [1., 1.],\n",
              "        [1., 1.],\n",
              "        [1., 1.],\n",
              "        [1., 1.]])"
            ]
          },
          "metadata": {},
          "execution_count": 5
        }
      ]
    },
    {
      "cell_type": "code",
      "source": [
        "a.add(c)"
      ],
      "metadata": {
        "colab": {
          "base_uri": "https://localhost:8080/"
        },
        "id": "crxmYUbv2b_Q",
        "outputId": "dd3dc372-7577-42a2-f12c-a327ba1f54d8"
      },
      "execution_count": 6,
      "outputs": [
        {
          "output_type": "execute_result",
          "data": {
            "text/plain": [
              "tensor([[1., 1.],\n",
              "        [1., 1.],\n",
              "        [1., 1.],\n",
              "        [1., 1.],\n",
              "        [1., 1.]])"
            ]
          },
          "metadata": {},
          "execution_count": 6
        }
      ]
    },
    {
      "cell_type": "code",
      "source": [
        "a.sub(c)"
      ],
      "metadata": {
        "colab": {
          "base_uri": "https://localhost:8080/"
        },
        "id": "XWWvDViD2lqC",
        "outputId": "0b278245-451f-49a5-c358-cf7a82e2dfd4"
      },
      "execution_count": 7,
      "outputs": [
        {
          "output_type": "execute_result",
          "data": {
            "text/plain": [
              "tensor([[-1., -1.],\n",
              "        [-1., -1.],\n",
              "        [-1., -1.],\n",
              "        [-1., -1.],\n",
              "        [-1., -1.]])"
            ]
          },
          "metadata": {},
          "execution_count": 7
        }
      ]
    },
    {
      "cell_type": "code",
      "source": [
        "a.mul(c)"
      ],
      "metadata": {
        "colab": {
          "base_uri": "https://localhost:8080/"
        },
        "id": "681vrJIZ2nr9",
        "outputId": "f557e380-8d39-4240-f977-ce0ca7035f64"
      },
      "execution_count": 8,
      "outputs": [
        {
          "output_type": "execute_result",
          "data": {
            "text/plain": [
              "tensor([[0., 0.],\n",
              "        [0., 0.],\n",
              "        [0., 0.],\n",
              "        [0., 0.],\n",
              "        [0., 0.]])"
            ]
          },
          "metadata": {},
          "execution_count": 8
        }
      ]
    },
    {
      "cell_type": "code",
      "source": [
        "a.div(c)"
      ],
      "metadata": {
        "colab": {
          "base_uri": "https://localhost:8080/"
        },
        "id": "otyYSILf2pLA",
        "outputId": "e76598d5-9b6f-4294-e351-6013b486a12d"
      },
      "execution_count": 9,
      "outputs": [
        {
          "output_type": "execute_result",
          "data": {
            "text/plain": [
              "tensor([[0., 0.],\n",
              "        [0., 0.],\n",
              "        [0., 0.],\n",
              "        [0., 0.],\n",
              "        [0., 0.]])"
            ]
          },
          "metadata": {},
          "execution_count": 9
        }
      ]
    },
    {
      "cell_type": "markdown",
      "metadata": {
        "id": "rIaroFO6YKBT"
      },
      "source": [
        "### Задача 3"
      ]
    },
    {
      "cell_type": "markdown",
      "metadata": {
        "id": "GfLHVvKvYKBT"
      },
      "source": [
        "1). Создайте тензор *целых чисел* `images` размерности (100, 200, 200, 3) (можно интерпретировать это как 100 картинок размера 200х200 с тремя цветовыми каналами, то есть 100 цветных изображений 200х200). Заполните его нулями  \n",
        "\n",
        "2). Сделайте так, чтобы у $i$-ой по порядку картинки была нарисована белая полоса толщиной два пикселя в строках, которые соответствуют номеру картинки. Например, у 3-ей по порядку картинки белая полоска будет занимать 6 и 7 строки, у 99 - 198 и 199. Сделать белую строку можно, записав в ячейки тензора число 255 (по всем трём каналам). Выведите несколько примеров с помощью `pylot`  \n",
        "\n",
        "3). Посчитайте среднее тензора `images` по 1-ой оси (по сути - средняя картинка), умножьте полученный тензор на 70. Нарисуйте с помощью `pyplot`, должна получиться серая картинка (при взятии среднего нужно привести тензор к float с помощью `.float()`, при отрисовке обратно к int с помощью `.int()`)"
      ]
    },
    {
      "cell_type": "code",
      "source": [
        "images = torch.zeros(100, 200, 200, 3, dtype=torch.int)\n",
        "\n",
        "for i in range(images.shape[0]):\n",
        "  images[i, i*2:i*2+2, :] =255"
      ],
      "metadata": {
        "id": "By7sePk2LMJc"
      },
      "execution_count": 23,
      "outputs": []
    },
    {
      "cell_type": "code",
      "source": [
        "from random import randrange"
      ],
      "metadata": {
        "id": "YUS6PhY-YU-W"
      },
      "execution_count": 24,
      "outputs": []
    },
    {
      "cell_type": "code",
      "source": [
        "RANDOM_IMAGES = 3\n",
        "f, axarr = plt.subplots(1, RANDOM_IMAGES, figsize=(20, 20)) \n",
        "\n",
        "for image in range(RANDOM_IMAGES):\n",
        "  random_image = randrange(len(images))\n",
        "  axarr[image].title.set_text(f\"Image {random_image}\")\n",
        "  axarr[image].imshow(images[random_image].int())"
      ],
      "metadata": {
        "colab": {
          "base_uri": "https://localhost:8080/",
          "height": 391
        },
        "id": "ED8PjR-uxs7o",
        "outputId": "4d5ad252-a929-484e-e2f3-49a81646bfb9"
      },
      "execution_count": 26,
      "outputs": [
        {
          "output_type": "display_data",
          "data": {
            "text/plain": [
              "<Figure size 1440x1440 with 3 Axes>"
            ],
            "image/png": "[encoded data removed]"
          },
          "metadata": {
            "needs_background": "light"
          }
        }
      ]
    },
    {
      "cell_type": "code",
      "source": [
        "plt.figure(figsize=(5, 5))\n",
        "\n",
        "plt.imshow((torch.mean(images.float(), 0) * 70).int())"
      ],
      "metadata": {
        "colab": {
          "base_uri": "https://localhost:8080/",
          "height": 338
        },
        "id": "MHSoRXMSU1G6",
        "outputId": "531c77cb-9f43-4a05-bfcf-0caedd19edf4"
      },
      "execution_count": 27,
      "outputs": [
        {
          "output_type": "execute_result",
          "data": {
            "text/plain": [
              "<matplotlib.image.AxesImage at 0x7f88f0b0a7c0>"
            ]
          },
          "metadata": {},
          "execution_count": 27
        },
        {
          "output_type": "display_data",
          "data": {
            "text/plain": [
              "<Figure size 360x360 with 1 Axes>"
            ],
            "image/png": "[encoded data removed]"
          },
          "metadata": {
            "needs_background": "light"
          }
        }
      ]
    },
    {
      "cell_type": "markdown",
      "metadata": {
        "id": "oQnhq5ZdYKCu"
      },
      "source": [
        "### Задача 4"
      ]
    },
    {
      "cell_type": "markdown",
      "metadata": {
        "id": "UB95BhgTYKCu"
      },
      "source": [
        "- В Colab нажмите в меню сверху: `Runtime` -> `Change Runtime Type` -> `GPU`, где изначально стоит `None` (`Среда выполнение` - `Сменить среду выполнения`)\n",
        "- Объявите тензор `a` размера (2, 3, 4) и тензор `b` размера (1, 8, 3) на GPU, иницилизируйте их случайно равномерно (`.uniform_()`)\n",
        "- Затем измените форму тензора `b`, чтобы она совпадала с формой тензора `a`, получите тензор `c`  \n",
        "- Переместите `c` на CPU, переместите `a` на CPU  \n",
        "- Оберните их в `Variable()`\n",
        "- Объявите тензор `L = torch.mean((c - a) `**` 2)` и посчитайте градиент `L` по `c` ( то есть $\\frac{\\partial{L}}{\\partial{c}})$\n",
        "- Выведите градиент `L` по `c`"
      ]
    },
    {
      "cell_type": "code",
      "source": [
        "from torch.autograd import Variable"
      ],
      "metadata": {
        "id": "2O3gMBDaPTsd"
      },
      "execution_count": 28,
      "outputs": []
    },
    {
      "cell_type": "code",
      "metadata": {
        "id": "WESOm5TCYKCv",
        "colab": {
          "base_uri": "https://localhost:8080/"
        },
        "outputId": "3554a32a-9787-4fa7-ac22-39d310a422f7"
      },
      "source": [
        "a = torch.FloatTensor(2, 3, 4).uniform_()\n",
        "a = a.cuda()\n",
        "\n",
        "b = torch.FloatTensor(1, 8, 3).uniform_()\n",
        "b = b.cuda()\n",
        "\n",
        "c = b.view(a.shape).cpu()\n",
        "a = a.cpu()\n",
        "\n",
        "c = Variable(c, requires_grad=True)\n",
        "a = Variable(a, requires_grad=True)\n",
        "\n",
        "L = torch.mean((c - a)**2)\n",
        "\n",
        "L.backward()\n",
        "\n",
        "c.grad"
      ],
      "execution_count": 29,
      "outputs": [
        {
          "output_type": "execute_result",
          "data": {
            "text/plain": [
              "tensor([[[ 0.0325,  0.0156,  0.0249,  0.0080],\n",
              "         [ 0.0279,  0.0237, -0.0087,  0.0507],\n",
              "         [ 0.0032, -0.0259, -0.0116,  0.0029]],\n",
              "\n",
              "        [[ 0.0152, -0.0391,  0.0116,  0.0230],\n",
              "         [-0.0254, -0.0339, -0.0354, -0.0332],\n",
              "         [-0.0440,  0.0218,  0.0327,  0.0490]]])"
            ]
          },
          "metadata": {},
          "execution_count": 29
        }
      ]
    }
  ]
}